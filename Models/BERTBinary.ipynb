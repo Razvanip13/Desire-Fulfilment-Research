{
  "nbformat": 4,
  "nbformat_minor": 0,
  "metadata": {
    "accelerator": "GPU",
    "colab": {
      "name": "finetunebinary4.ipynb",
      "provenance": [],
      "collapsed_sections": []
    },
    "interpreter": {
      "hash": "2681c61213f7868066ad62bb2a35fb330f9d31b463350b0be21ca9cb2599bc86"
    },
    "kernelspec": {
      "display_name": "Python 3.9.7 64-bit",
      "language": "python",
      "name": "python3"
    },
    "language_info": {
      "codemirror_mode": {
        "name": "ipython",
        "version": 3
      },
      "file_extension": ".py",
      "mimetype": "text/x-python",
      "name": "python",
      "nbconvert_exporter": "python",
      "pygments_lexer": "ipython3",
      "version": "3.9.7"
    }
  },
  "cells": [
    {
      "cell_type": "code",
      "metadata": {
        "colab": {
          "base_uri": "https://localhost:8080/"
        },
        "id": "KUfJR9B7Qspu",
        "outputId": "11c7e0fc-01c6-495b-e1fb-200b8af28792"
      },
      "source": [
        "!pip install tensorflow_text\n",
        "!pip install tensorflow_addons"
      ],
      "execution_count": 41,
      "outputs": [
        {
          "output_type": "stream",
          "name": "stdout",
          "text": [
            "Requirement already satisfied: tensorflow_text in /usr/local/lib/python3.7/dist-packages (2.7.3)\n",
            "Requirement already satisfied: tensorflow-hub>=0.8.0 in /usr/local/lib/python3.7/dist-packages (from tensorflow_text) (0.12.0)\n",
            "Requirement already satisfied: tensorflow<2.8,>=2.7.0 in /usr/local/lib/python3.7/dist-packages (from tensorflow_text) (2.7.0)\n",
            "Requirement already satisfied: tensorflow-io-gcs-filesystem>=0.21.0 in /usr/local/lib/python3.7/dist-packages (from tensorflow<2.8,>=2.7.0->tensorflow_text) (0.22.0)\n",
            "Requirement already satisfied: libclang>=9.0.1 in /usr/local/lib/python3.7/dist-packages (from tensorflow<2.8,>=2.7.0->tensorflow_text) (12.0.0)\n",
            "Requirement already satisfied: wheel<1.0,>=0.32.0 in /usr/local/lib/python3.7/dist-packages (from tensorflow<2.8,>=2.7.0->tensorflow_text) (0.37.0)\n",
            "Requirement already satisfied: keras<2.8,>=2.7.0rc0 in /usr/local/lib/python3.7/dist-packages (from tensorflow<2.8,>=2.7.0->tensorflow_text) (2.7.0)\n",
            "Requirement already satisfied: keras-preprocessing>=1.1.1 in /usr/local/lib/python3.7/dist-packages (from tensorflow<2.8,>=2.7.0->tensorflow_text) (1.1.2)\n",
            "Requirement already satisfied: wrapt>=1.11.0 in /usr/local/lib/python3.7/dist-packages (from tensorflow<2.8,>=2.7.0->tensorflow_text) (1.13.3)\n",
            "Requirement already satisfied: tensorboard~=2.6 in /usr/local/lib/python3.7/dist-packages (from tensorflow<2.8,>=2.7.0->tensorflow_text) (2.7.0)\n",
            "Requirement already satisfied: typing-extensions>=3.6.6 in /usr/local/lib/python3.7/dist-packages (from tensorflow<2.8,>=2.7.0->tensorflow_text) (3.10.0.2)\n",
            "Requirement already satisfied: google-pasta>=0.1.1 in /usr/local/lib/python3.7/dist-packages (from tensorflow<2.8,>=2.7.0->tensorflow_text) (0.2.0)\n",
            "Requirement already satisfied: opt-einsum>=2.3.2 in /usr/local/lib/python3.7/dist-packages (from tensorflow<2.8,>=2.7.0->tensorflow_text) (3.3.0)\n",
            "Requirement already satisfied: absl-py>=0.4.0 in /usr/local/lib/python3.7/dist-packages (from tensorflow<2.8,>=2.7.0->tensorflow_text) (0.12.0)\n",
            "Requirement already satisfied: termcolor>=1.1.0 in /usr/local/lib/python3.7/dist-packages (from tensorflow<2.8,>=2.7.0->tensorflow_text) (1.1.0)\n",
            "Requirement already satisfied: h5py>=2.9.0 in /usr/local/lib/python3.7/dist-packages (from tensorflow<2.8,>=2.7.0->tensorflow_text) (3.1.0)\n",
            "Requirement already satisfied: six>=1.12.0 in /usr/local/lib/python3.7/dist-packages (from tensorflow<2.8,>=2.7.0->tensorflow_text) (1.15.0)\n",
            "Requirement already satisfied: grpcio<2.0,>=1.24.3 in /usr/local/lib/python3.7/dist-packages (from tensorflow<2.8,>=2.7.0->tensorflow_text) (1.42.0)\n",
            "Requirement already satisfied: protobuf>=3.9.2 in /usr/local/lib/python3.7/dist-packages (from tensorflow<2.8,>=2.7.0->tensorflow_text) (3.17.3)\n",
            "Requirement already satisfied: astunparse>=1.6.0 in /usr/local/lib/python3.7/dist-packages (from tensorflow<2.8,>=2.7.0->tensorflow_text) (1.6.3)\n",
            "Requirement already satisfied: tensorflow-estimator<2.8,~=2.7.0rc0 in /usr/local/lib/python3.7/dist-packages (from tensorflow<2.8,>=2.7.0->tensorflow_text) (2.7.0)\n",
            "Requirement already satisfied: flatbuffers<3.0,>=1.12 in /usr/local/lib/python3.7/dist-packages (from tensorflow<2.8,>=2.7.0->tensorflow_text) (2.0)\n",
            "Requirement already satisfied: numpy>=1.14.5 in /usr/local/lib/python3.7/dist-packages (from tensorflow<2.8,>=2.7.0->tensorflow_text) (1.19.5)\n",
            "Requirement already satisfied: gast<0.5.0,>=0.2.1 in /usr/local/lib/python3.7/dist-packages (from tensorflow<2.8,>=2.7.0->tensorflow_text) (0.4.0)\n",
            "Requirement already satisfied: cached-property in /usr/local/lib/python3.7/dist-packages (from h5py>=2.9.0->tensorflow<2.8,>=2.7.0->tensorflow_text) (1.5.2)\n",
            "Requirement already satisfied: setuptools>=41.0.0 in /usr/local/lib/python3.7/dist-packages (from tensorboard~=2.6->tensorflow<2.8,>=2.7.0->tensorflow_text) (57.4.0)\n",
            "Requirement already satisfied: tensorboard-plugin-wit>=1.6.0 in /usr/local/lib/python3.7/dist-packages (from tensorboard~=2.6->tensorflow<2.8,>=2.7.0->tensorflow_text) (1.8.0)\n",
            "Requirement already satisfied: requests<3,>=2.21.0 in /usr/local/lib/python3.7/dist-packages (from tensorboard~=2.6->tensorflow<2.8,>=2.7.0->tensorflow_text) (2.23.0)\n",
            "Requirement already satisfied: markdown>=2.6.8 in /usr/local/lib/python3.7/dist-packages (from tensorboard~=2.6->tensorflow<2.8,>=2.7.0->tensorflow_text) (3.3.6)\n",
            "Requirement already satisfied: werkzeug>=0.11.15 in /usr/local/lib/python3.7/dist-packages (from tensorboard~=2.6->tensorflow<2.8,>=2.7.0->tensorflow_text) (1.0.1)\n",
            "Requirement already satisfied: google-auth-oauthlib<0.5,>=0.4.1 in /usr/local/lib/python3.7/dist-packages (from tensorboard~=2.6->tensorflow<2.8,>=2.7.0->tensorflow_text) (0.4.6)\n",
            "Requirement already satisfied: google-auth<3,>=1.6.3 in /usr/local/lib/python3.7/dist-packages (from tensorboard~=2.6->tensorflow<2.8,>=2.7.0->tensorflow_text) (1.35.0)\n",
            "Requirement already satisfied: tensorboard-data-server<0.7.0,>=0.6.0 in /usr/local/lib/python3.7/dist-packages (from tensorboard~=2.6->tensorflow<2.8,>=2.7.0->tensorflow_text) (0.6.1)\n",
            "Requirement already satisfied: rsa<5,>=3.1.4 in /usr/local/lib/python3.7/dist-packages (from google-auth<3,>=1.6.3->tensorboard~=2.6->tensorflow<2.8,>=2.7.0->tensorflow_text) (4.8)\n",
            "Requirement already satisfied: pyasn1-modules>=0.2.1 in /usr/local/lib/python3.7/dist-packages (from google-auth<3,>=1.6.3->tensorboard~=2.6->tensorflow<2.8,>=2.7.0->tensorflow_text) (0.2.8)\n",
            "Requirement already satisfied: cachetools<5.0,>=2.0.0 in /usr/local/lib/python3.7/dist-packages (from google-auth<3,>=1.6.3->tensorboard~=2.6->tensorflow<2.8,>=2.7.0->tensorflow_text) (4.2.4)\n",
            "Requirement already satisfied: requests-oauthlib>=0.7.0 in /usr/local/lib/python3.7/dist-packages (from google-auth-oauthlib<0.5,>=0.4.1->tensorboard~=2.6->tensorflow<2.8,>=2.7.0->tensorflow_text) (1.3.0)\n",
            "Requirement already satisfied: importlib-metadata>=4.4 in /usr/local/lib/python3.7/dist-packages (from markdown>=2.6.8->tensorboard~=2.6->tensorflow<2.8,>=2.7.0->tensorflow_text) (4.8.2)\n",
            "Requirement already satisfied: zipp>=0.5 in /usr/local/lib/python3.7/dist-packages (from importlib-metadata>=4.4->markdown>=2.6.8->tensorboard~=2.6->tensorflow<2.8,>=2.7.0->tensorflow_text) (3.6.0)\n",
            "Requirement already satisfied: pyasn1<0.5.0,>=0.4.6 in /usr/local/lib/python3.7/dist-packages (from pyasn1-modules>=0.2.1->google-auth<3,>=1.6.3->tensorboard~=2.6->tensorflow<2.8,>=2.7.0->tensorflow_text) (0.4.8)\n",
            "Requirement already satisfied: chardet<4,>=3.0.2 in /usr/local/lib/python3.7/dist-packages (from requests<3,>=2.21.0->tensorboard~=2.6->tensorflow<2.8,>=2.7.0->tensorflow_text) (3.0.4)\n",
            "Requirement already satisfied: idna<3,>=2.5 in /usr/local/lib/python3.7/dist-packages (from requests<3,>=2.21.0->tensorboard~=2.6->tensorflow<2.8,>=2.7.0->tensorflow_text) (2.10)\n",
            "Requirement already satisfied: certifi>=2017.4.17 in /usr/local/lib/python3.7/dist-packages (from requests<3,>=2.21.0->tensorboard~=2.6->tensorflow<2.8,>=2.7.0->tensorflow_text) (2021.10.8)\n",
            "Requirement already satisfied: urllib3!=1.25.0,!=1.25.1,<1.26,>=1.21.1 in /usr/local/lib/python3.7/dist-packages (from requests<3,>=2.21.0->tensorboard~=2.6->tensorflow<2.8,>=2.7.0->tensorflow_text) (1.24.3)\n",
            "Requirement already satisfied: oauthlib>=3.0.0 in /usr/local/lib/python3.7/dist-packages (from requests-oauthlib>=0.7.0->google-auth-oauthlib<0.5,>=0.4.1->tensorboard~=2.6->tensorflow<2.8,>=2.7.0->tensorflow_text) (3.1.1)\n",
            "Requirement already satisfied: tensorflow_addons in /usr/local/lib/python3.7/dist-packages (0.15.0)\n",
            "Requirement already satisfied: typeguard>=2.7 in /usr/local/lib/python3.7/dist-packages (from tensorflow_addons) (2.7.1)\n"
          ]
        }
      ]
    },
    {
      "cell_type": "code",
      "metadata": {
        "id": "v6jwAUk4QUfS"
      },
      "source": [
        "import tensorflow as tf\n",
        "import tensorflow_hub as hub\n",
        "import tensorflow_text as text\n",
        "import pickle\n",
        "import numpy as np\n",
        "import pandas as pd\n",
        "import tensorflow_addons as tfa"
      ],
      "execution_count": 42,
      "outputs": []
    },
    {
      "cell_type": "code",
      "metadata": {
        "id": "YnTQ6G84QUfW"
      },
      "source": [
        "gpus = tf.config.list_physical_devices('GPU')"
      ],
      "execution_count": 43,
      "outputs": []
    },
    {
      "cell_type": "code",
      "metadata": {
        "colab": {
          "base_uri": "https://localhost:8080/"
        },
        "id": "An3WB2q8QUfW",
        "outputId": "f95b225f-81b0-452c-c05c-c4badbd693f1"
      },
      "source": [
        "gpus"
      ],
      "execution_count": 44,
      "outputs": [
        {
          "output_type": "execute_result",
          "data": {
            "text/plain": [
              "[PhysicalDevice(name='/physical_device:GPU:0', device_type='GPU')]"
            ]
          },
          "metadata": {},
          "execution_count": 44
        }
      ]
    },
    {
      "cell_type": "code",
      "metadata": {
        "colab": {
          "base_uri": "https://localhost:8080/",
          "height": 206
        },
        "id": "AhUZnUO0QUfX",
        "outputId": "3629fd9c-c426-4395-8ea0-16bef7a4ed5c"
      },
      "source": [
        "df = pd.read_csv(\"DesireDBPreprocessed.csv\")\n",
        "df.head(5)"
      ],
      "execution_count": 45,
      "outputs": [
        {
          "output_type": "execute_result",
          "data": {
            "text/html": [
              "<div>\n",
              "<style scoped>\n",
              "    .dataframe tbody tr th:only-of-type {\n",
              "        vertical-align: middle;\n",
              "    }\n",
              "\n",
              "    .dataframe tbody tr th {\n",
              "        vertical-align: top;\n",
              "    }\n",
              "\n",
              "    .dataframe thead th {\n",
              "        text-align: right;\n",
              "    }\n",
              "</style>\n",
              "<table border=\"1\" class=\"dataframe\">\n",
              "  <thead>\n",
              "    <tr style=\"text-align: right;\">\n",
              "      <th></th>\n",
              "      <th>Unnamed: 0</th>\n",
              "      <th>Content</th>\n",
              "      <th>Label</th>\n",
              "    </tr>\n",
              "  </thead>\n",
              "  <tbody>\n",
              "    <tr>\n",
              "      <th>0</th>\n",
              "      <td>0</td>\n",
              "      <td>Ah, it's the weekend again. This has become a ...</td>\n",
              "      <td>Fulfilled</td>\n",
              "    </tr>\n",
              "    <tr>\n",
              "      <th>1</th>\n",
              "      <td>1</td>\n",
              "      <td>It was hectic. Then on top of that the one and...</td>\n",
              "      <td>Unfulfilled</td>\n",
              "    </tr>\n",
              "    <tr>\n",
              "      <th>2</th>\n",
              "      <td>2</td>\n",
              "      <td>Being a groomsman, I really didn't get the cha...</td>\n",
              "      <td>Fulfilled</td>\n",
              "    </tr>\n",
              "    <tr>\n",
              "      <th>3</th>\n",
              "      <td>3</td>\n",
              "      <td>Before justice started school I had an idea to...</td>\n",
              "      <td>Fulfilled</td>\n",
              "    </tr>\n",
              "    <tr>\n",
              "      <th>4</th>\n",
              "      <td>4</td>\n",
              "      <td>So for some reason (I dunno wad) I was under t...</td>\n",
              "      <td>Unfulfilled</td>\n",
              "    </tr>\n",
              "  </tbody>\n",
              "</table>\n",
              "</div>"
            ],
            "text/plain": [
              "   Unnamed: 0                                            Content        Label\n",
              "0           0  Ah, it's the weekend again. This has become a ...    Fulfilled\n",
              "1           1  It was hectic. Then on top of that the one and...  Unfulfilled\n",
              "2           2  Being a groomsman, I really didn't get the cha...    Fulfilled\n",
              "3           3  Before justice started school I had an idea to...    Fulfilled\n",
              "4           4  So for some reason (I dunno wad) I was under t...  Unfulfilled"
            ]
          },
          "metadata": {},
          "execution_count": 45
        }
      ]
    },
    {
      "cell_type": "code",
      "metadata": {
        "colab": {
          "base_uri": "https://localhost:8080/",
          "height": 206
        },
        "id": "zrt0rysqQUfY",
        "outputId": "c6bd3a31-3852-47b4-a1b4-852f94a15d5c"
      },
      "source": [
        "df.groupby('Label').describe()"
      ],
      "execution_count": 46,
      "outputs": [
        {
          "output_type": "execute_result",
          "data": {
            "text/html": [
              "<div>\n",
              "<style scoped>\n",
              "    .dataframe tbody tr th:only-of-type {\n",
              "        vertical-align: middle;\n",
              "    }\n",
              "\n",
              "    .dataframe tbody tr th {\n",
              "        vertical-align: top;\n",
              "    }\n",
              "\n",
              "    .dataframe thead tr th {\n",
              "        text-align: left;\n",
              "    }\n",
              "\n",
              "    .dataframe thead tr:last-of-type th {\n",
              "        text-align: right;\n",
              "    }\n",
              "</style>\n",
              "<table border=\"1\" class=\"dataframe\">\n",
              "  <thead>\n",
              "    <tr>\n",
              "      <th></th>\n",
              "      <th colspan=\"8\" halign=\"left\">Unnamed: 0</th>\n",
              "    </tr>\n",
              "    <tr>\n",
              "      <th></th>\n",
              "      <th>count</th>\n",
              "      <th>mean</th>\n",
              "      <th>std</th>\n",
              "      <th>min</th>\n",
              "      <th>25%</th>\n",
              "      <th>50%</th>\n",
              "      <th>75%</th>\n",
              "      <th>max</th>\n",
              "    </tr>\n",
              "    <tr>\n",
              "      <th>Label</th>\n",
              "      <th></th>\n",
              "      <th></th>\n",
              "      <th></th>\n",
              "      <th></th>\n",
              "      <th></th>\n",
              "      <th></th>\n",
              "      <th></th>\n",
              "      <th></th>\n",
              "    </tr>\n",
              "  </thead>\n",
              "  <tbody>\n",
              "    <tr>\n",
              "      <th>Fulfilled</th>\n",
              "      <td>1950.0</td>\n",
              "      <td>1915.909744</td>\n",
              "      <td>1052.956578</td>\n",
              "      <td>0.0</td>\n",
              "      <td>992.50</td>\n",
              "      <td>1968.5</td>\n",
              "      <td>2854.75</td>\n",
              "      <td>3586.0</td>\n",
              "    </tr>\n",
              "    <tr>\n",
              "      <th>Unfulfilled</th>\n",
              "      <td>1126.0</td>\n",
              "      <td>1633.002664</td>\n",
              "      <td>946.576897</td>\n",
              "      <td>1.0</td>\n",
              "      <td>851.50</td>\n",
              "      <td>1590.5</td>\n",
              "      <td>2365.75</td>\n",
              "      <td>3587.0</td>\n",
              "    </tr>\n",
              "    <tr>\n",
              "      <th>Unknown</th>\n",
              "      <td>512.0</td>\n",
              "      <td>1680.259766</td>\n",
              "      <td>1097.551201</td>\n",
              "      <td>6.0</td>\n",
              "      <td>643.25</td>\n",
              "      <td>1618.5</td>\n",
              "      <td>2730.50</td>\n",
              "      <td>3584.0</td>\n",
              "    </tr>\n",
              "  </tbody>\n",
              "</table>\n",
              "</div>"
            ],
            "text/plain": [
              "            Unnamed: 0                            ...                         \n",
              "                 count         mean          std  ...     50%      75%     max\n",
              "Label                                             ...                         \n",
              "Fulfilled       1950.0  1915.909744  1052.956578  ...  1968.5  2854.75  3586.0\n",
              "Unfulfilled     1126.0  1633.002664   946.576897  ...  1590.5  2365.75  3587.0\n",
              "Unknown          512.0  1680.259766  1097.551201  ...  1618.5  2730.50  3584.0\n",
              "\n",
              "[3 rows x 8 columns]"
            ]
          },
          "metadata": {},
          "execution_count": 46
        }
      ]
    },
    {
      "cell_type": "code",
      "metadata": {
        "colab": {
          "base_uri": "https://localhost:8080/"
        },
        "id": "hQf48XEVQUfY",
        "outputId": "39bd3525-4c0c-4969-eb21-004649013c99"
      },
      "source": [
        "df['Label'].value_counts()"
      ],
      "execution_count": 47,
      "outputs": [
        {
          "output_type": "execute_result",
          "data": {
            "text/plain": [
              "Fulfilled      1950\n",
              "Unfulfilled    1126\n",
              "Unknown         512\n",
              "Name: Label, dtype: int64"
            ]
          },
          "metadata": {},
          "execution_count": 47
        }
      ]
    },
    {
      "cell_type": "code",
      "metadata": {
        "id": "iMZ7cFZSQUfZ"
      },
      "source": [
        "X = df.iloc[:, 1 :-1].values\n",
        "y = df.iloc[:, -1].values"
      ],
      "execution_count": 48,
      "outputs": []
    },
    {
      "cell_type": "code",
      "metadata": {
        "id": "vu8TcAm8QUfZ"
      },
      "source": [
        "LABELS = [\n",
        "    'admiration',\n",
        "    'amusement',\n",
        "    'anger',\n",
        "    'annoyance',\n",
        "    'approval',\n",
        "    'caring',\n",
        "    'confusion',\n",
        "    'curiosity',\n",
        "    'desire',\n",
        "    'disappointment',\n",
        "    'disapproval',\n",
        "    'disgust',\n",
        "    'embarrassment',\n",
        "    'excitement',\n",
        "    'fear',\n",
        "    'gratitude',\n",
        "    'grief',\n",
        "    'joy',\n",
        "    'love',\n",
        "    'nervousness',\n",
        "    'optimism',\n",
        "    'pride',\n",
        "    'realization',\n",
        "    'relief',\n",
        "    'remorse',\n",
        "    'sadness',\n",
        "    'surprise',\n",
        "    'neutral',\n",
        "]"
      ],
      "execution_count": 49,
      "outputs": []
    },
    {
      "cell_type": "code",
      "metadata": {
        "id": "BxeejvRlQUfb"
      },
      "source": [
        "def values_to_label(values):\n",
        "\n",
        "  maxim = -1 \n",
        "  index = -1\n",
        "\n",
        "  for i in range(len(values)):\n",
        "    if values[i] > maxim: \n",
        "      maxim = values[i] \n",
        "      index = i\n",
        "\n",
        "  # print(LABELS[index])\n",
        "\n",
        "  return LABELS[index]\n"
      ],
      "execution_count": 50,
      "outputs": []
    },
    {
      "cell_type": "code",
      "metadata": {
        "id": "e1ZvY7uKQUfc"
      },
      "source": [
        "X_with_emotion = []"
      ],
      "execution_count": 51,
      "outputs": []
    },
    {
      "cell_type": "code",
      "metadata": {
        "id": "jhI8tLnvQUfc"
      },
      "source": [
        "with open('out_visual.pickle', 'rb') as fd:\n",
        "    w = pickle.load(fd)\n",
        "\n",
        "    for i in range(len(X)):\n",
        "\n",
        "      label = values_to_label(w[i][1])\n",
        "      x_simple = X[i].tolist()\n",
        "      x_simple[0] = x_simple[0] + \" \" + label\n",
        "      X_with_emotion.append(x_simple)\n"
      ],
      "execution_count": 52,
      "outputs": []
    },
    {
      "cell_type": "code",
      "metadata": {
        "id": "4xap2JDKQUfd"
      },
      "source": [
        "markers = {\"accordingly\": 0, \"so\": 0,\"ultimately\": 0,\"finally\": 0, \"rather\": 0, \"yet\": 0, \"although\": 0, \"but\": 0}"
      ],
      "execution_count": 53,
      "outputs": []
    },
    {
      "cell_type": "code",
      "metadata": {
        "id": "YdBTbAuMQUfd"
      },
      "source": [
        "for story in X_with_emotion:\n",
        "  word_list = story[0].split()\n",
        "  for word in word_list:\n",
        "    if word in markers:\n",
        "      markers[word] += 1\n",
        "  story[0] += \" \"+str(sum(list(markers.values())[:4]))\n",
        "  story[0] += \" \"+str(sum(list(markers.values())[-4:]))\n",
        "\n",
        "  markers = {k: 0 for k in markers}"
      ],
      "execution_count": 54,
      "outputs": []
    },
    {
      "cell_type": "code",
      "metadata": {
        "colab": {
          "base_uri": "https://localhost:8080/"
        },
        "id": "XspnsVc5QUfd",
        "outputId": "f281e4ba-e782-44fc-9914-85bb029789cd"
      },
      "source": [
        "X_with_emotion[:2]"
      ],
      "execution_count": 55,
      "outputs": [
        {
          "output_type": "execute_result",
          "data": {
            "text/plain": [
              "[[\"Ah, it's the weekend again. This has become a sort of weekend blog, hasn't it? For Saturday morning's activity, I decided to organize a small team for trekking the nice and simple route of Kranji Memorial trek once again. However, as the weather gods would have it, I woke up to ominous looking skies. Soon, it started pouring and one by one, people decided to back out. Finally, only Jane, Felix, Jervais and I were left. But hey, the weather turned out to be really awsome! Raving to go, people! neutral 0 0\"],\n",
              " [\"It was hectic. Then on top of that the one and ONLY day I have ever worn a skirt and pantyhose to work, I had to spend the afternoon crawling on the floor under my desk plugging shit in. I am not a dressy person, I don't like dresses and skirts. I would much rather wear pants, and I certainly do not like pantyhoes or stockings of any kind. But I live in the south, and ladies are expected to wear them if they are showing any leg at all, it is just not socially acceptable in my office not to do so. Also, I had super intentions of going to bed at like 9 tonight, but then matt IMed me wanted to talk, and the Sox/Yanks game was on, and I still haven't decided what I am going to wear tomorrow because again, I was under the impression that tomorrow was Friday and I could wear jeans because it was casual day. But no, tricksters and all, it's Thursday so I have to pull one more nice outfit and heels out of my ass for another day. And I have to come up with it now, because I am not to be trusted to do so in a timely manner in the mornings. I just am beginning to hate getting dressed more and more each day. disapproval 2 2\"]]"
            ]
          },
          "metadata": {},
          "execution_count": 55
        }
      ]
    },
    {
      "cell_type": "code",
      "metadata": {
        "id": "AGWnIepci1VS"
      },
      "source": [
        "X_with_emotion = [x for x,label in zip(X_with_emotion,y) if label =='Fulfilled' or label =='Unfulfilled']\n",
        "y = [label for label in y if label =='Fulfilled' or label =='Unfulfilled']"
      ],
      "execution_count": 56,
      "outputs": []
    },
    {
      "cell_type": "code",
      "metadata": {
        "id": "t8gkUttTQUfe"
      },
      "source": [
        "from sklearn.model_selection import train_test_split\n",
        "\n",
        "X_train, X_test, y_train, y_test = train_test_split(X_with_emotion,y,test_size=0.2, random_state=42)"
      ],
      "execution_count": 57,
      "outputs": []
    },
    {
      "cell_type": "code",
      "metadata": {
        "colab": {
          "base_uri": "https://localhost:8080/"
        },
        "id": "aOwv9t3N8XLL",
        "outputId": "093e38d0-5a07-466a-edb7-17c76c5e8735"
      },
      "source": [
        "len(X_train)"
      ],
      "execution_count": 58,
      "outputs": [
        {
          "output_type": "execute_result",
          "data": {
            "text/plain": [
              "2460"
            ]
          },
          "metadata": {},
          "execution_count": 58
        }
      ]
    },
    {
      "cell_type": "code",
      "metadata": {
        "id": "aXyL9L1RQUfe"
      },
      "source": [
        "label_to_id= {'Fulfilled' : 0, 'Unfulfilled' : 1}"
      ],
      "execution_count": 59,
      "outputs": []
    },
    {
      "cell_type": "code",
      "metadata": {
        "id": "6S9rKHbzQUff"
      },
      "source": [
        "y_train = [label_to_id[label] for label in y_train]"
      ],
      "execution_count": 60,
      "outputs": []
    },
    {
      "cell_type": "code",
      "metadata": {
        "id": "ZkCCc0HHQUff"
      },
      "source": [
        "y_train = tf.one_hot(y_train, depth = 2)"
      ],
      "execution_count": 61,
      "outputs": []
    },
    {
      "cell_type": "code",
      "metadata": {
        "id": "sEn1oy_0QUff"
      },
      "source": [
        "handle_encoder = \"https://tfhub.dev/tensorflow/bert_en_uncased_L-12_H-768_A-12/4\"\n",
        "handle_preprocess = \"https://tfhub.dev/tensorflow/bert_en_uncased_preprocess/3\""
      ],
      "execution_count": 62,
      "outputs": []
    },
    {
      "cell_type": "code",
      "metadata": {
        "id": "GC5dyj8DQUfg"
      },
      "source": [
        "tf.random.set_seed(0)"
      ],
      "execution_count": 63,
      "outputs": []
    },
    {
      "cell_type": "code",
      "metadata": {
        "id": "u8M6y1I5QUfh"
      },
      "source": [
        "def build_classifier_model():\n",
        "  text_input = tf.keras.layers.Input(shape=(), dtype=tf.string, name='text')\n",
        "  preprocessing_layer = hub.KerasLayer(handle_preprocess, name='preprocessing')\n",
        "  encoder_inputs = preprocessing_layer(text_input)\n",
        "  encoder = hub.KerasLayer(handle_encoder, trainable=True, name='BERT_encoder')\n",
        "  outputs = encoder(encoder_inputs)\n",
        "  net = outputs['pooled_output']\n",
        "  net = tf.keras.layers.Dropout(0.2)(net)\n",
        "  # net = tf.keras.layers.Dense(1000, activation = 'relu', kernel_initializer=tf.keras.initializers.HeNormal())(net)\n",
        "  net = tf.keras.layers.Dense(2, activation='softmax', name='classifier')(net)\n",
        "  return tf.keras.Model(text_input, net)"
      ],
      "execution_count": 64,
      "outputs": []
    },
    {
      "cell_type": "code",
      "metadata": {
        "id": "nnJYxKcXQUfh"
      },
      "source": [
        "loss = tf.keras.losses.CategoricalCrossentropy()"
      ],
      "execution_count": 65,
      "outputs": []
    },
    {
      "cell_type": "code",
      "metadata": {
        "id": "ymrxSsSTQUfh"
      },
      "source": [
        "METRICS = [\n",
        "      'accuracy',\n",
        "      tf.keras.metrics.Precision(name='precision'),\n",
        "      tf.keras.metrics.Recall(name='recall')\n",
        "]"
      ],
      "execution_count": 66,
      "outputs": []
    },
    {
      "cell_type": "code",
      "metadata": {
        "id": "ohfwnvSijW3j"
      },
      "source": [
        "MyAdamW = tfa.optimizers.extend_with_decoupled_weight_decay(tf.keras.optimizers.Adam)\n"
      ],
      "execution_count": 67,
      "outputs": []
    },
    {
      "cell_type": "code",
      "metadata": {
        "id": "X-nnR44lZra3"
      },
      "source": [
        "# 600 15 epoci \n",
        "# 500 15 epoci 77%\n",
        "# 500 30 epoci 78% 6.1649e-04"
      ],
      "execution_count": 68,
      "outputs": []
    },
    {
      "cell_type": "code",
      "metadata": {
        "id": "O2o9CHF7QUfh"
      },
      "source": [
        "epochs = 5\n",
        "steps_per_epoch = len(X_train)\n",
        "num_train_steps = steps_per_epoch * epochs\n",
        "num_warmup_steps = int(0.1*num_train_steps)\n",
        "\n",
        "init_lr = 5e-5\n",
        "# optimizer = tf.keras.optimizers.Adam(learning_rate=3e-5)\n",
        "lr_schedule = tf.keras.optimizers.schedules.ExponentialDecay(\n",
        "    init_lr,\n",
        "    decay_steps=500,\n",
        "    decay_rate=0.85,\n",
        "    staircase=True)\n",
        "optimizer = tf.keras.optimizers.Adam(learning_rate=lr_schedule)\n",
        "\n",
        "# optimizer = MyAdamW(weight_decay=0.0001, learning_rate=5e-5)\n"
      ],
      "execution_count": 69,
      "outputs": []
    },
    {
      "cell_type": "code",
      "metadata": {
        "id": "udx8WBLJQUfh"
      },
      "source": [
        "model = build_classifier_model()\n",
        "model.compile(\n",
        "    optimizer = optimizer,\n",
        "    loss = loss, \n",
        "    metrics = METRICS\n",
        ")"
      ],
      "execution_count": 70,
      "outputs": []
    },
    {
      "cell_type": "code",
      "metadata": {
        "colab": {
          "base_uri": "https://localhost:8080/"
        },
        "id": "6_dtaalZQUfh",
        "outputId": "c72d4c66-a035-4383-ff92-553a92b82797"
      },
      "source": [
        "history = model.fit(np.array(X_train), np.array(y_train), batch_size=32, epochs=20)"
      ],
      "execution_count": 71,
      "outputs": [
        {
          "metadata": {
            "tags": null
          },
          "name": "stdout",
          "output_type": "stream",
          "text": [
            "Epoch 1/20\n",
            "77/77 [==============================] - 141s 2s/step - loss: 0.6876 - accuracy: 0.5955 - precision: 0.5955 - recall: 0.5955\n",
            "Epoch 2/20\n",
            "77/77 [==============================] - 125s 2s/step - loss: 0.6128 - accuracy: 0.6606 - precision: 0.6606 - recall: 0.6606\n",
            "Epoch 3/20\n",
            "77/77 [==============================] - 125s 2s/step - loss: 0.4446 - accuracy: 0.7984 - precision: 0.7984 - recall: 0.7984\n",
            "Epoch 4/20\n",
            "77/77 [==============================] - 125s 2s/step - loss: 0.2230 - accuracy: 0.9150 - precision: 0.9150 - recall: 0.9150\n",
            "Epoch 5/20\n",
            "77/77 [==============================] - 125s 2s/step - loss: 0.1266 - accuracy: 0.9557 - precision: 0.9557 - recall: 0.9557\n",
            "Epoch 6/20\n",
            "77/77 [==============================] - 125s 2s/step - loss: 0.1255 - accuracy: 0.9533 - precision: 0.9533 - recall: 0.9533\n",
            "Epoch 7/20\n",
            "77/77 [==============================] - 125s 2s/step - loss: 0.0350 - accuracy: 0.9898 - precision: 0.9898 - recall: 0.9898\n",
            "Epoch 8/20\n",
            "77/77 [==============================] - 125s 2s/step - loss: 0.0382 - accuracy: 0.9874 - precision: 0.9874 - recall: 0.9874\n",
            "Epoch 9/20\n",
            "77/77 [==============================] - 125s 2s/step - loss: 0.0211 - accuracy: 0.9943 - precision: 0.9943 - recall: 0.9943\n",
            "Epoch 10/20\n",
            "77/77 [==============================] - 125s 2s/step - loss: 0.0145 - accuracy: 0.9947 - precision: 0.9947 - recall: 0.9947\n",
            "Epoch 11/20\n",
            "77/77 [==============================] - 125s 2s/step - loss: 0.0119 - accuracy: 0.9980 - precision: 0.9980 - recall: 0.9980\n",
            "Epoch 12/20\n",
            "77/77 [==============================] - 125s 2s/step - loss: 0.0132 - accuracy: 0.9951 - precision: 0.9951 - recall: 0.9951\n",
            "Epoch 13/20\n",
            "77/77 [==============================] - 125s 2s/step - loss: 0.0344 - accuracy: 0.9890 - precision: 0.9890 - recall: 0.9890\n",
            "Epoch 14/20\n",
            "77/77 [==============================] - 125s 2s/step - loss: 0.0247 - accuracy: 0.9919 - precision: 0.9919 - recall: 0.9919\n",
            "Epoch 15/20\n",
            "77/77 [==============================] - 125s 2s/step - loss: 0.0181 - accuracy: 0.9935 - precision: 0.9935 - recall: 0.9935\n",
            "Epoch 16/20\n",
            "77/77 [==============================] - 125s 2s/step - loss: 0.0082 - accuracy: 0.9967 - precision: 0.9967 - recall: 0.9967\n",
            "Epoch 17/20\n",
            "77/77 [==============================] - 125s 2s/step - loss: 0.0017 - accuracy: 0.9996 - precision: 0.9996 - recall: 0.9996\n",
            "Epoch 18/20\n",
            "77/77 [==============================] - 125s 2s/step - loss: 0.0018 - accuracy: 0.9992 - precision: 0.9992 - recall: 0.9992\n",
            "Epoch 19/20\n",
            "77/77 [==============================] - 124s 2s/step - loss: 6.4193e-04 - accuracy: 1.0000 - precision: 1.0000 - recall: 1.0000\n",
            "Epoch 20/20\n",
            "77/77 [==============================] - 125s 2s/step - loss: 0.0011 - accuracy: 0.9996 - precision: 0.9996 - recall: 0.9996\n"
          ]
        }
      ]
    },
    {
      "cell_type": "code",
      "metadata": {
        "id": "A7tZBjjARu9r"
      },
      "source": [
        "model.save_weights('BertTunedOptimizedBinary4')"
      ],
      "execution_count": 73,
      "outputs": []
    },
    {
      "cell_type": "code",
      "metadata": {
        "id": "n-AxoMyiQUfk"
      },
      "source": [
        "y_test = [label_to_id[label] for label in y_test]"
      ],
      "execution_count": 74,
      "outputs": []
    },
    {
      "cell_type": "code",
      "metadata": {
        "id": "eYxHJuQbQUfk"
      },
      "source": [
        "y_test = tf.one_hot(y_test, depth = 2)"
      ],
      "execution_count": 75,
      "outputs": []
    },
    {
      "cell_type": "code",
      "metadata": {
        "colab": {
          "base_uri": "https://localhost:8080/"
        },
        "id": "V4ppRITqQUfk",
        "outputId": "14d95076-cb00-400c-a08f-f701c1fe7c4e"
      },
      "source": [
        "model.evaluate(np.array(X_test), np.array(y_test))"
      ],
      "execution_count": 76,
      "outputs": [
        {
          "output_type": "stream",
          "name": "stdout",
          "text": [
            "20/20 [==============================] - 14s 634ms/step - loss: 1.7334 - accuracy: 0.7484 - precision: 0.7484 - recall: 0.7484\n"
          ]
        },
        {
          "output_type": "execute_result",
          "data": {
            "text/plain": [
              "[1.7333556413650513,\n",
              " 0.7483766078948975,\n",
              " 0.7483766078948975,\n",
              " 0.7483766078948975]"
            ]
          },
          "metadata": {},
          "execution_count": 76
        }
      ]
    },
    {
      "cell_type": "code",
      "metadata": {
        "id": "hwdT8UlCQUfk"
      },
      "source": [
        "y_predicted = model.predict(X_test)"
      ],
      "execution_count": 77,
      "outputs": []
    },
    {
      "cell_type": "code",
      "metadata": {
        "id": "5BwLbgX-QUfk"
      },
      "source": [
        "y_predicted_modeled = tf.math.argmax(y_predicted,axis=1)"
      ],
      "execution_count": 78,
      "outputs": []
    },
    {
      "cell_type": "code",
      "metadata": {
        "colab": {
          "base_uri": "https://localhost:8080/"
        },
        "id": "oWtqtl9-QUfk",
        "outputId": "c7632b98-e1ec-4279-c180-9067f4094818"
      },
      "source": [
        "np.unique(y_predicted_modeled)"
      ],
      "execution_count": 79,
      "outputs": [
        {
          "output_type": "execute_result",
          "data": {
            "text/plain": [
              "array([0, 1])"
            ]
          },
          "metadata": {},
          "execution_count": 79
        }
      ]
    },
    {
      "cell_type": "code",
      "metadata": {
        "id": "ZmFM_1XQQUfl"
      },
      "source": [
        "y_test_modeled =  tf.math.argmax(y_test,axis=1)"
      ],
      "execution_count": 80,
      "outputs": []
    },
    {
      "cell_type": "code",
      "metadata": {
        "id": "vIkGTnlGQUfl",
        "colab": {
          "base_uri": "https://localhost:8080/"
        },
        "outputId": "89998060-3d31-4d63-f94f-0ed9f645cd04"
      },
      "source": [
        "from sklearn.metrics import confusion_matrix, classification_report\n",
        "\n",
        "cm = confusion_matrix(y_test_modeled, y_predicted_modeled)\n",
        "cm"
      ],
      "execution_count": 81,
      "outputs": [
        {
          "output_type": "execute_result",
          "data": {
            "text/plain": [
              "array([[313,  83],\n",
              "       [ 72, 148]])"
            ]
          },
          "metadata": {},
          "execution_count": 81
        }
      ]
    }
  ]
}