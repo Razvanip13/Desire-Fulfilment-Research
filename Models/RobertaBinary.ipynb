{
  "cells": [
    {
      "cell_type": "code",
      "execution_count": null,
      "metadata": {
        "colab": {
          "base_uri": "https://localhost:8080/"
        },
        "id": "KUfJR9B7Qspu",
        "outputId": "72f43c9e-b597-4efa-e25e-4863f77c09e8"
      },
      "outputs": [
        {
          "output_type": "stream",
          "name": "stdout",
          "text": [
            "Collecting transformers\n",
            "  Downloading transformers-4.13.0-py3-none-any.whl (3.3 MB)\n",
            "\u001b[K     |████████████████████████████████| 3.3 MB 4.3 MB/s \n",
            "\u001b[?25hRequirement already satisfied: packaging>=20.0 in /usr/local/lib/python3.7/dist-packages (from transformers) (21.3)\n",
            "Collecting tokenizers<0.11,>=0.10.1\n",
            "  Downloading tokenizers-0.10.3-cp37-cp37m-manylinux_2_5_x86_64.manylinux1_x86_64.manylinux_2_12_x86_64.manylinux2010_x86_64.whl (3.3 MB)\n",
            "\u001b[K     |████████████████████████████████| 3.3 MB 39.9 MB/s \n",
            "\u001b[?25hRequirement already satisfied: regex!=2019.12.17 in /usr/local/lib/python3.7/dist-packages (from transformers) (2019.12.20)\n",
            "Requirement already satisfied: tqdm>=4.27 in /usr/local/lib/python3.7/dist-packages (from transformers) (4.62.3)\n",
            "Requirement already satisfied: numpy>=1.17 in /usr/local/lib/python3.7/dist-packages (from transformers) (1.19.5)\n",
            "Requirement already satisfied: importlib-metadata in /usr/local/lib/python3.7/dist-packages (from transformers) (4.8.2)\n",
            "Collecting pyyaml>=5.1\n",
            "  Downloading PyYAML-6.0-cp37-cp37m-manylinux_2_5_x86_64.manylinux1_x86_64.manylinux_2_12_x86_64.manylinux2010_x86_64.whl (596 kB)\n",
            "\u001b[K     |████████████████████████████████| 596 kB 46.0 MB/s \n",
            "\u001b[?25hCollecting huggingface-hub<1.0,>=0.1.0\n",
            "  Downloading huggingface_hub-0.2.1-py3-none-any.whl (61 kB)\n",
            "\u001b[K     |████████████████████████████████| 61 kB 503 kB/s \n",
            "\u001b[?25hRequirement already satisfied: requests in /usr/local/lib/python3.7/dist-packages (from transformers) (2.23.0)\n",
            "Collecting sacremoses\n",
            "  Downloading sacremoses-0.0.46-py3-none-any.whl (895 kB)\n",
            "\u001b[K     |████████████████████████████████| 895 kB 51.4 MB/s \n",
            "\u001b[?25hRequirement already satisfied: filelock in /usr/local/lib/python3.7/dist-packages (from transformers) (3.4.0)\n",
            "Requirement already satisfied: typing-extensions>=3.7.4.3 in /usr/local/lib/python3.7/dist-packages (from huggingface-hub<1.0,>=0.1.0->transformers) (3.10.0.2)\n",
            "Requirement already satisfied: pyparsing!=3.0.5,>=2.0.2 in /usr/local/lib/python3.7/dist-packages (from packaging>=20.0->transformers) (3.0.6)\n",
            "Requirement already satisfied: zipp>=0.5 in /usr/local/lib/python3.7/dist-packages (from importlib-metadata->transformers) (3.6.0)\n",
            "Requirement already satisfied: certifi>=2017.4.17 in /usr/local/lib/python3.7/dist-packages (from requests->transformers) (2021.10.8)\n",
            "Requirement already satisfied: chardet<4,>=3.0.2 in /usr/local/lib/python3.7/dist-packages (from requests->transformers) (3.0.4)\n",
            "Requirement already satisfied: urllib3!=1.25.0,!=1.25.1,<1.26,>=1.21.1 in /usr/local/lib/python3.7/dist-packages (from requests->transformers) (1.24.3)\n",
            "Requirement already satisfied: idna<3,>=2.5 in /usr/local/lib/python3.7/dist-packages (from requests->transformers) (2.10)\n",
            "Requirement already satisfied: six in /usr/local/lib/python3.7/dist-packages (from sacremoses->transformers) (1.15.0)\n",
            "Requirement already satisfied: joblib in /usr/local/lib/python3.7/dist-packages (from sacremoses->transformers) (1.1.0)\n",
            "Requirement already satisfied: click in /usr/local/lib/python3.7/dist-packages (from sacremoses->transformers) (7.1.2)\n",
            "Installing collected packages: pyyaml, tokenizers, sacremoses, huggingface-hub, transformers\n",
            "  Attempting uninstall: pyyaml\n",
            "    Found existing installation: PyYAML 3.13\n",
            "    Uninstalling PyYAML-3.13:\n",
            "      Successfully uninstalled PyYAML-3.13\n",
            "Successfully installed huggingface-hub-0.2.1 pyyaml-6.0 sacremoses-0.0.46 tokenizers-0.10.3 transformers-4.13.0\n"
          ]
        }
      ],
      "source": [
        "# !pip install tensorflow_text\n",
        "# !pip install tensorflow_addons\n",
        "!pip install transformers"
      ]
    },
    {
      "cell_type": "code",
      "execution_count": null,
      "metadata": {
        "id": "v6jwAUk4QUfS"
      },
      "outputs": [],
      "source": [
        "import tensorflow as tf\n",
        "# import tensorflow_hub as hub\n",
        "# import tensorflow_text as text\n",
        "import pickle\n",
        "import numpy as np\n",
        "import pandas as pd\n",
        "# import tensorflow_addons as tfa"
      ]
    },
    {
      "cell_type": "code",
      "execution_count": null,
      "metadata": {
        "id": "YnTQ6G84QUfW"
      },
      "outputs": [],
      "source": [
        "gpus = tf.config.list_physical_devices('GPU')"
      ]
    },
    {
      "cell_type": "code",
      "execution_count": null,
      "metadata": {
        "colab": {
          "base_uri": "https://localhost:8080/"
        },
        "id": "An3WB2q8QUfW",
        "outputId": "f3a2e967-931a-4add-98f3-b00222bec40b"
      },
      "outputs": [
        {
          "output_type": "execute_result",
          "data": {
            "text/plain": [
              "[PhysicalDevice(name='/physical_device:GPU:0', device_type='GPU')]"
            ]
          },
          "metadata": {},
          "execution_count": 4
        }
      ],
      "source": [
        "gpus"
      ]
    },
    {
      "cell_type": "code",
      "execution_count": null,
      "metadata": {
        "colab": {
          "base_uri": "https://localhost:8080/",
          "height": 206
        },
        "id": "AhUZnUO0QUfX",
        "outputId": "6a10e9a2-9ba9-49f0-da5f-6c0a45e6f48c"
      },
      "outputs": [
        {
          "output_type": "execute_result",
          "data": {
            "text/html": [
              "<div>\n",
              "<style scoped>\n",
              "    .dataframe tbody tr th:only-of-type {\n",
              "        vertical-align: middle;\n",
              "    }\n",
              "\n",
              "    .dataframe tbody tr th {\n",
              "        vertical-align: top;\n",
              "    }\n",
              "\n",
              "    .dataframe thead th {\n",
              "        text-align: right;\n",
              "    }\n",
              "</style>\n",
              "<table border=\"1\" class=\"dataframe\">\n",
              "  <thead>\n",
              "    <tr style=\"text-align: right;\">\n",
              "      <th></th>\n",
              "      <th>Unnamed: 0</th>\n",
              "      <th>Content</th>\n",
              "      <th>Label</th>\n",
              "    </tr>\n",
              "  </thead>\n",
              "  <tbody>\n",
              "    <tr>\n",
              "      <th>0</th>\n",
              "      <td>0</td>\n",
              "      <td>Ah, it's the weekend again. This has become a ...</td>\n",
              "      <td>Fulfilled</td>\n",
              "    </tr>\n",
              "    <tr>\n",
              "      <th>1</th>\n",
              "      <td>1</td>\n",
              "      <td>It was hectic. Then on top of that the one and...</td>\n",
              "      <td>Unfulfilled</td>\n",
              "    </tr>\n",
              "    <tr>\n",
              "      <th>2</th>\n",
              "      <td>2</td>\n",
              "      <td>Being a groomsman, I really didn't get the cha...</td>\n",
              "      <td>Fulfilled</td>\n",
              "    </tr>\n",
              "    <tr>\n",
              "      <th>3</th>\n",
              "      <td>3</td>\n",
              "      <td>Before justice started school I had an idea to...</td>\n",
              "      <td>Fulfilled</td>\n",
              "    </tr>\n",
              "    <tr>\n",
              "      <th>4</th>\n",
              "      <td>4</td>\n",
              "      <td>So for some reason (I dunno wad) I was under t...</td>\n",
              "      <td>Unfulfilled</td>\n",
              "    </tr>\n",
              "  </tbody>\n",
              "</table>\n",
              "</div>"
            ],
            "text/plain": [
              "   Unnamed: 0                                            Content        Label\n",
              "0           0  Ah, it's the weekend again. This has become a ...    Fulfilled\n",
              "1           1  It was hectic. Then on top of that the one and...  Unfulfilled\n",
              "2           2  Being a groomsman, I really didn't get the cha...    Fulfilled\n",
              "3           3  Before justice started school I had an idea to...    Fulfilled\n",
              "4           4  So for some reason (I dunno wad) I was under t...  Unfulfilled"
            ]
          },
          "metadata": {},
          "execution_count": 5
        }
      ],
      "source": [
        "df = pd.read_csv(\"DesireDBPreprocessed.csv\")\n",
        "df.head(5)"
      ]
    },
    {
      "cell_type": "code",
      "execution_count": null,
      "metadata": {
        "colab": {
          "base_uri": "https://localhost:8080/",
          "height": 206
        },
        "id": "zrt0rysqQUfY",
        "outputId": "32e5dce4-79de-4d1a-cd55-682bca76c9bd"
      },
      "outputs": [
        {
          "output_type": "execute_result",
          "data": {
            "text/html": [
              "<div>\n",
              "<style scoped>\n",
              "    .dataframe tbody tr th:only-of-type {\n",
              "        vertical-align: middle;\n",
              "    }\n",
              "\n",
              "    .dataframe tbody tr th {\n",
              "        vertical-align: top;\n",
              "    }\n",
              "\n",
              "    .dataframe thead tr th {\n",
              "        text-align: left;\n",
              "    }\n",
              "\n",
              "    .dataframe thead tr:last-of-type th {\n",
              "        text-align: right;\n",
              "    }\n",
              "</style>\n",
              "<table border=\"1\" class=\"dataframe\">\n",
              "  <thead>\n",
              "    <tr>\n",
              "      <th></th>\n",
              "      <th colspan=\"8\" halign=\"left\">Unnamed: 0</th>\n",
              "    </tr>\n",
              "    <tr>\n",
              "      <th></th>\n",
              "      <th>count</th>\n",
              "      <th>mean</th>\n",
              "      <th>std</th>\n",
              "      <th>min</th>\n",
              "      <th>25%</th>\n",
              "      <th>50%</th>\n",
              "      <th>75%</th>\n",
              "      <th>max</th>\n",
              "    </tr>\n",
              "    <tr>\n",
              "      <th>Label</th>\n",
              "      <th></th>\n",
              "      <th></th>\n",
              "      <th></th>\n",
              "      <th></th>\n",
              "      <th></th>\n",
              "      <th></th>\n",
              "      <th></th>\n",
              "      <th></th>\n",
              "    </tr>\n",
              "  </thead>\n",
              "  <tbody>\n",
              "    <tr>\n",
              "      <th>Fulfilled</th>\n",
              "      <td>1950.0</td>\n",
              "      <td>1915.909744</td>\n",
              "      <td>1052.956578</td>\n",
              "      <td>0.0</td>\n",
              "      <td>992.50</td>\n",
              "      <td>1968.5</td>\n",
              "      <td>2854.75</td>\n",
              "      <td>3586.0</td>\n",
              "    </tr>\n",
              "    <tr>\n",
              "      <th>Unfulfilled</th>\n",
              "      <td>1126.0</td>\n",
              "      <td>1633.002664</td>\n",
              "      <td>946.576897</td>\n",
              "      <td>1.0</td>\n",
              "      <td>851.50</td>\n",
              "      <td>1590.5</td>\n",
              "      <td>2365.75</td>\n",
              "      <td>3587.0</td>\n",
              "    </tr>\n",
              "    <tr>\n",
              "      <th>Unknown</th>\n",
              "      <td>512.0</td>\n",
              "      <td>1680.259766</td>\n",
              "      <td>1097.551201</td>\n",
              "      <td>6.0</td>\n",
              "      <td>643.25</td>\n",
              "      <td>1618.5</td>\n",
              "      <td>2730.50</td>\n",
              "      <td>3584.0</td>\n",
              "    </tr>\n",
              "  </tbody>\n",
              "</table>\n",
              "</div>"
            ],
            "text/plain": [
              "            Unnamed: 0                            ...                         \n",
              "                 count         mean          std  ...     50%      75%     max\n",
              "Label                                             ...                         \n",
              "Fulfilled       1950.0  1915.909744  1052.956578  ...  1968.5  2854.75  3586.0\n",
              "Unfulfilled     1126.0  1633.002664   946.576897  ...  1590.5  2365.75  3587.0\n",
              "Unknown          512.0  1680.259766  1097.551201  ...  1618.5  2730.50  3584.0\n",
              "\n",
              "[3 rows x 8 columns]"
            ]
          },
          "metadata": {},
          "execution_count": 7
        }
      ],
      "source": [
        "df.groupby('Label').describe()"
      ]
    },
    {
      "cell_type": "code",
      "execution_count": null,
      "metadata": {
        "colab": {
          "base_uri": "https://localhost:8080/"
        },
        "id": "hQf48XEVQUfY",
        "outputId": "5b13c85b-c79c-4f1d-eda8-e148cd99f091"
      },
      "outputs": [
        {
          "output_type": "execute_result",
          "data": {
            "text/plain": [
              "Fulfilled      1950\n",
              "Unfulfilled    1126\n",
              "Unknown         512\n",
              "Name: Label, dtype: int64"
            ]
          },
          "metadata": {},
          "execution_count": 8
        }
      ],
      "source": [
        "df['Label'].value_counts()"
      ]
    },
    {
      "cell_type": "code",
      "execution_count": null,
      "metadata": {
        "id": "iMZ7cFZSQUfZ"
      },
      "outputs": [],
      "source": [
        "X = df.iloc[:, 1 :-1].values\n",
        "y = df.iloc[:, -1].values"
      ]
    },
    {
      "cell_type": "code",
      "execution_count": null,
      "metadata": {
        "id": "vu8TcAm8QUfZ"
      },
      "outputs": [],
      "source": [
        "LABELS = [\n",
        "    'admiration',\n",
        "    'amusement',\n",
        "    'anger',\n",
        "    'annoyance',\n",
        "    'approval',\n",
        "    'caring',\n",
        "    'confusion',\n",
        "    'curiosity',\n",
        "    'desire',\n",
        "    'disappointment',\n",
        "    'disapproval',\n",
        "    'disgust',\n",
        "    'embarrassment',\n",
        "    'excitement',\n",
        "    'fear',\n",
        "    'gratitude',\n",
        "    'grief',\n",
        "    'joy',\n",
        "    'love',\n",
        "    'nervousness',\n",
        "    'optimism',\n",
        "    'pride',\n",
        "    'realization',\n",
        "    'relief',\n",
        "    'remorse',\n",
        "    'sadness',\n",
        "    'surprise',\n",
        "    'neutral',\n",
        "]"
      ]
    },
    {
      "cell_type": "code",
      "execution_count": null,
      "metadata": {
        "id": "BxeejvRlQUfb"
      },
      "outputs": [],
      "source": [
        "def values_to_label(values):\n",
        "\n",
        "  maxim = -1 \n",
        "  index = -1\n",
        "\n",
        "  for i in range(len(values)):\n",
        "    if values[i] > maxim: \n",
        "      maxim = values[i] \n",
        "      index = i\n",
        "\n",
        "  # print(LABELS[index])\n",
        "\n",
        "  return LABELS[index]\n"
      ]
    },
    {
      "cell_type": "code",
      "execution_count": null,
      "metadata": {
        "id": "e1ZvY7uKQUfc"
      },
      "outputs": [],
      "source": [
        "X_with_emotion = []"
      ]
    },
    {
      "cell_type": "code",
      "execution_count": null,
      "metadata": {
        "id": "jhI8tLnvQUfc"
      },
      "outputs": [],
      "source": [
        "with open('out_visual.pickle', 'rb') as fd:\n",
        "    w = pickle.load(fd)\n",
        "\n",
        "    for i in range(len(X)):\n",
        "\n",
        "      label = values_to_label(w[i][1])\n",
        "      x_simple = X[i].tolist()\n",
        "      x_simple[0] = x_simple[0] + \" \" + label\n",
        "      X_with_emotion.append(x_simple)\n"
      ]
    },
    {
      "cell_type": "code",
      "execution_count": null,
      "metadata": {
        "id": "4xap2JDKQUfd"
      },
      "outputs": [],
      "source": [
        "markers = {\"accordingly\": 0, \"so\": 0,\"ultimately\": 0,\"finally\": 0, \"rather\": 0, \"yet\": 0, \"although\": 0, \"but\": 0}"
      ]
    },
    {
      "cell_type": "code",
      "execution_count": null,
      "metadata": {
        "id": "YdBTbAuMQUfd"
      },
      "outputs": [],
      "source": [
        "for story in X_with_emotion:\n",
        "  word_list = story[0].split()\n",
        "  for word in word_list:\n",
        "    if word in markers:\n",
        "      markers[word] += 1\n",
        "  story[0] += \" \"+str(sum(list(markers.values())[:4]))\n",
        "  story[0] += \" \"+str(sum(list(markers.values())[-4:]))\n",
        "\n",
        "  markers = {k: 0 for k in markers}"
      ]
    },
    {
      "cell_type": "code",
      "execution_count": null,
      "metadata": {
        "colab": {
          "base_uri": "https://localhost:8080/"
        },
        "id": "pNsDdEXKdzwL",
        "outputId": "9c941cfe-d29f-45df-8deb-dbcef103172f"
      },
      "outputs": [
        {
          "output_type": "execute_result",
          "data": {
            "text/plain": [
              "{'accordingly': 0,\n",
              " 'although': 0,\n",
              " 'but': 0,\n",
              " 'finally': 0,\n",
              " 'rather': 0,\n",
              " 'so': 0,\n",
              " 'ultimately': 0,\n",
              " 'yet': 0}"
            ]
          },
          "metadata": {},
          "execution_count": 16
        }
      ],
      "source": [
        "markers"
      ]
    },
    {
      "cell_type": "code",
      "execution_count": null,
      "metadata": {
        "colab": {
          "base_uri": "https://localhost:8080/"
        },
        "id": "XspnsVc5QUfd",
        "outputId": "72649789-df69-49f9-f5c2-cd447c90936e"
      },
      "outputs": [
        {
          "output_type": "execute_result",
          "data": {
            "text/plain": [
              "[[\"Ah, it's the weekend again. This has become a sort of weekend blog, hasn't it? For Saturday morning's activity, I decided to organize a small team for trekking the nice and simple route of Kranji Memorial trek once again. However, as the weather gods would have it, I woke up to ominous looking skies. Soon, it started pouring and one by one, people decided to back out. Finally, only Jane, Felix, Jervais and I were left. But hey, the weather turned out to be really awsome! Raving to go, people! neutral 0 0\"],\n",
              " [\"It was hectic. Then on top of that the one and ONLY day I have ever worn a skirt and pantyhose to work, I had to spend the afternoon crawling on the floor under my desk plugging shit in. I am not a dressy person, I don't like dresses and skirts. I would much rather wear pants, and I certainly do not like pantyhoes or stockings of any kind. But I live in the south, and ladies are expected to wear them if they are showing any leg at all, it is just not socially acceptable in my office not to do so. Also, I had super intentions of going to bed at like 9 tonight, but then matt IMed me wanted to talk, and the Sox/Yanks game was on, and I still haven't decided what I am going to wear tomorrow because again, I was under the impression that tomorrow was Friday and I could wear jeans because it was casual day. But no, tricksters and all, it's Thursday so I have to pull one more nice outfit and heels out of my ass for another day. And I have to come up with it now, because I am not to be trusted to do so in a timely manner in the mornings. I just am beginning to hate getting dressed more and more each day. disapproval 2 2\"]]"
            ]
          },
          "metadata": {},
          "execution_count": 17
        }
      ],
      "source": [
        "X_with_emotion[:2]"
      ]
    },
    {
      "cell_type": "code",
      "execution_count": null,
      "metadata": {
        "id": "AGWnIepci1VS"
      },
      "outputs": [],
      "source": [
        "X_with_emotion = [x for x,label in zip(X_with_emotion,y) if label =='Fulfilled' or label =='Unfulfilled']\n",
        "y = [label for label in y if label =='Fulfilled' or label =='Unfulfilled']"
      ]
    },
    {
      "cell_type": "code",
      "execution_count": null,
      "metadata": {
        "id": "t8gkUttTQUfe"
      },
      "outputs": [],
      "source": [
        "from sklearn.model_selection import train_test_split\n",
        "\n",
        "X_train, X_test, y_train, y_test = train_test_split(X_with_emotion,y,test_size=0.2, random_state=42)"
      ]
    },
    {
      "cell_type": "code",
      "execution_count": null,
      "metadata": {
        "colab": {
          "base_uri": "https://localhost:8080/"
        },
        "id": "aOwv9t3N8XLL",
        "outputId": "ae3d3248-3394-48f0-8705-9b271dfbf30e"
      },
      "outputs": [
        {
          "output_type": "execute_result",
          "data": {
            "text/plain": [
              "2460"
            ]
          },
          "metadata": {},
          "execution_count": 20
        }
      ],
      "source": [
        "len(X_train)"
      ]
    },
    {
      "cell_type": "code",
      "execution_count": null,
      "metadata": {
        "id": "aXyL9L1RQUfe"
      },
      "outputs": [],
      "source": [
        "label_to_id= {'Fulfilled' : 0, 'Unfulfilled' : 1}"
      ]
    },
    {
      "cell_type": "code",
      "execution_count": null,
      "metadata": {
        "id": "6S9rKHbzQUff"
      },
      "outputs": [],
      "source": [
        "y_train = [label_to_id[label] for label in y_train]\n",
        "y_test = [label_to_id[label] for label in y_test]"
      ]
    },
    {
      "cell_type": "code",
      "execution_count": null,
      "metadata": {
        "id": "ZkCCc0HHQUff"
      },
      "outputs": [],
      "source": [
        "y_train = tf.one_hot(y_train, depth = 2)\n",
        "y_test = tf.one_hot(y_test, depth = 2)"
      ]
    },
    {
      "cell_type": "code",
      "execution_count": null,
      "metadata": {
        "colab": {
          "base_uri": "https://localhost:8080/"
        },
        "id": "kVki1FtYeANz",
        "outputId": "e06fde3d-73bf-4719-d5c1-c7fd4b0fa6c9"
      },
      "outputs": [
        {
          "output_type": "stream",
          "name": "stdout",
          "text": [
            "tf.Tensor(\n",
            "[[1. 0.]\n",
            " [1. 0.]\n",
            " [1. 0.]\n",
            " ...\n",
            " [0. 1.]\n",
            " [0. 1.]\n",
            " [0. 1.]], shape=(2460, 2), dtype=float32)\n",
            "tf.Tensor(\n",
            "[[1. 0.]\n",
            " [1. 0.]\n",
            " [0. 1.]\n",
            " ...\n",
            " [1. 0.]\n",
            " [1. 0.]\n",
            " [0. 1.]], shape=(616, 2), dtype=float32)\n"
          ]
        }
      ],
      "source": [
        "print(y_train)\n",
        "print(y_test)"
      ]
    },
    {
      "cell_type": "code",
      "execution_count": null,
      "metadata": {
        "id": "GC5dyj8DQUfg"
      },
      "outputs": [],
      "source": [
        "tf.random.set_seed(0)"
      ]
    },
    {
      "cell_type": "code",
      "execution_count": null,
      "metadata": {
        "id": "9xMGQ7gWkrjI"
      },
      "outputs": [],
      "source": [
        "# class MyRoberta(tf.keras.Model):\n",
        "#   def __init__(self, no_labels=2):\n",
        "#     super().__init__()\n",
        "#     self.__tokenizer = tokenizer = RobertaTokenizer.from_pretrained(\"roberta-base\")\n",
        "#     self.__model = TFRobertaModel.from_pretrained('roberta-base')\n",
        "#     self.__desireClassifier = tf.keras.layers.Dense(no_labels, activation='softmax', name='classifier')\n",
        "\n",
        "#   def call(self, inputs):\n",
        "#     encoded_input = self.__tokenizer(inputs, return_tensors=\"tf\")\n",
        "#     output = self.__model(encoded_input)"
      ]
    },
    {
      "cell_type": "code",
      "execution_count": null,
      "metadata": {
        "id": "u8M6y1I5QUfh"
      },
      "outputs": [],
      "source": [
        "# from transformers import RobertaTokenizer, TFRobertaModel\n",
        "\n",
        "# transformer_model = TFRobertaModel.from_pretrained('roberta-base')\n",
        "\n",
        "# def build_classifier_model():\n",
        "#   input_embeddings = tf.keras.layers.Input(shape=(768,), name='input_embeddings', dtype='float32')\n",
        "#   x = tf.keras.layers.Dropout(0.2)(input_embeddings)\n",
        "#   x = tf.keras.layers.Dense(2, activation='sigmoid', name='classifier')(x)\n",
        "#   return tf.keras.Model(inputs=input_embeddings, outputs=x)\n",
        "\n",
        "# # model = build_classifier_model()\n",
        "# model = build_classifier_model_ft()"
      ]
    },
    {
      "cell_type": "code",
      "execution_count": null,
      "metadata": {
        "id": "QHpe4ugIuifR"
      },
      "outputs": [],
      "source": [
        "def batch_encode(tokenizer, texts, batch_size=256):\n",
        "    input_ids = []\n",
        "    attention_masks = []\n",
        "    for x in texts:\n",
        "      x = tokenizer(x, return_tensors='tf', truncation=True, padding=True, pad_to_multiple_of=512)  # to cut sentences with > 512 words\n",
        "      input_ids.append(x['input_ids'])\n",
        "      attention_masks.append(x['attention_mask'])\n",
        "\n",
        "    # return tf.convert_to_tensor(h), tf.convert_to_tensor(np.array(attention_masks))\n",
        "    return tf.convert_to_tensor(input_ids), tf.convert_to_tensor(attention_masks)\n",
        "    \n",
        "    # input_ids = []\n",
        "    # attention_mask = []\n",
        "    \n",
        "    # for i in range(0, len(texts), 1):\n",
        "    #     batch = texts[i:i+batch_size]\n",
        "    #     inputs = tokenizer.batch_encode_plus(batch,\n",
        "    #                                          max_length=512,\n",
        "    #                                          truncation=True,\n",
        "    #                                          )\n",
        "    #     input_ids.extend(inputs['input_ids'])\n",
        "    #     attention_mask.extend(inputs['attention_mask'])\n",
        "    \n",
        "    # return tf.convert_to_tensor(input_ids), tf.convert_to_tensor(attention_mask)\n",
        "    "
      ]
    },
    {
      "cell_type": "code",
      "execution_count": null,
      "metadata": {
        "colab": {
          "base_uri": "https://localhost:8080/",
          "height": 145,
          "referenced_widgets": [
            "c2d850aaace54fbfa77f303ab67184a6",
            "788224c4ce8b44f38723ab7e48c7034d",
            "f359396f3ac643399f1989118f73b850",
            "34efc087d32642089c3c20ac1ea49b61",
            "4b1be6105b52425abcbc49648e476f20",
            "9c3be7bf7ebd4677b809a5e9adf38aaa",
            "aaf345a72dbc4f68b02807072c3b609d",
            "e963e2f6eb9d40b3a4fd3339ff3f55df",
            "3255a864966b40f783ca1a99461d318a",
            "a3334cb48ba9496e9d754c7f654d7b21",
            "ab7a4fba43fd4cb48d8b54e7be06a5c8",
            "486b82a366f746acabf1b2e9afa76295",
            "e6bb4934a807406bac5fe66583aa344b",
            "419b3024feec459da0ec961ff5174d22",
            "fc37b3e472314aa7ba0f71ffbc2d7eed",
            "6f19f0217c3d420b86a6737ecf6060d7",
            "5371da9dde6a415aa06ffe3efa3c33c9",
            "51fe50a8b2a147959148284ec7eee56d",
            "e91faed5eeaf41fab6c38cf8b398557d",
            "cc5b216660074abbabf3537664a07b30",
            "2431a345a5924e29a8965742dccd5e8d",
            "b7c11777018d48ff9feb4932d46a71e0",
            "52b7dd3b3ce645c79306be084e29d74c",
            "9cfadba2164f4a78a72168e50674a5ea",
            "7c57cb691834424dbfd83d922f0bff33",
            "20302dfc2909423a85e48d454ab540d3",
            "58b0d3dd538c4730bd6029ab314303f8",
            "7efea7dee4414661892186d7d13cb206",
            "5b7daf6c048f4ae7a9d1dd2e9a5f47f4",
            "e20214214eaa4a678ea254a74febd647",
            "4396c11a54ef400eb1f2fd35eadc05e3",
            "2fd62fb2d4cb47c9ab088191937c3201",
            "d96693429f3b4639963551c8f0cea2fc",
            "d34e2abdb4394862aff79bb2a86643a4",
            "64efb0496aa641e5ab9cf0d024c81ba6",
            "e3c8c8d2218b4118a8d4b3796b366877",
            "b6c0b676589e49beb22c67a4165046d0",
            "fc2fdb1961d84f4f9b8b4bab07151be5",
            "747991dd273748b29016c5bff91092b1",
            "5681b27011c144a495ea0274f4929bdd",
            "aff675b90fd34f40bbf3bc99cba0b5d8",
            "d3b0f06b68de4d0b9ad021cec3e02bda",
            "bf2a6ca4078b47f5b266a77f2a168ec0",
            "f4fc6c28e98740a1b0bf98b260d59a7e"
          ]
        },
        "id": "dDI7ElIHuhT8",
        "outputId": "b02abbd6-c838-41cc-8048-4036b1314a51"
      },
      "outputs": [
        {
          "output_type": "display_data",
          "data": {
            "application/vnd.jupyter.widget-view+json": {
              "model_id": "c2d850aaace54fbfa77f303ab67184a6",
              "version_minor": 0,
              "version_major": 2
            },
            "text/plain": [
              "Downloading:   0%|          | 0.00/878k [00:00<?, ?B/s]"
            ]
          },
          "metadata": {}
        },
        {
          "output_type": "display_data",
          "data": {
            "application/vnd.jupyter.widget-view+json": {
              "model_id": "486b82a366f746acabf1b2e9afa76295",
              "version_minor": 0,
              "version_major": 2
            },
            "text/plain": [
              "Downloading:   0%|          | 0.00/446k [00:00<?, ?B/s]"
            ]
          },
          "metadata": {}
        },
        {
          "output_type": "display_data",
          "data": {
            "application/vnd.jupyter.widget-view+json": {
              "model_id": "52b7dd3b3ce645c79306be084e29d74c",
              "version_minor": 0,
              "version_major": 2
            },
            "text/plain": [
              "Downloading:   0%|          | 0.00/1.29M [00:00<?, ?B/s]"
            ]
          },
          "metadata": {}
        },
        {
          "output_type": "display_data",
          "data": {
            "application/vnd.jupyter.widget-view+json": {
              "model_id": "d34e2abdb4394862aff79bb2a86643a4",
              "version_minor": 0,
              "version_major": 2
            },
            "text/plain": [
              "Downloading:   0%|          | 0.00/481 [00:00<?, ?B/s]"
            ]
          },
          "metadata": {}
        }
      ],
      "source": [
        "from transformers import DistilBertTokenizerFast, RobertaTokenizer, TFRobertaModel\n",
        "tokenizer = RobertaTokenizer.from_pretrained(\"roberta-base\")\n",
        "# tokenizer = DistilBertTokenizerFast.from_pretrained('distilbert-base-uncased')\n",
        "\n",
        "# Encode X_train\n",
        "X_train_ids, X_train_attention = batch_encode(tokenizer, X_train)\n",
        "\n",
        "# Encode X_test\n",
        "X_test_ids, X_test_attention = batch_encode(tokenizer, X_test)"
      ]
    },
    {
      "cell_type": "code",
      "execution_count": null,
      "metadata": {
        "colab": {
          "base_uri": "https://localhost:8080/"
        },
        "id": "3dnDkVlPv_DQ",
        "outputId": "74885ca8-1fcd-469e-9a27-2e739318b781"
      },
      "outputs": [
        {
          "output_type": "stream",
          "name": "stdout",
          "text": [
            "tf.Tensor(\n",
            "[[    0   894    21 22431    23     5  3984     6     5   689     6     5\n",
            "  12411     9     5 18196    14 46405  2230  2868     7   127 24867  3209\n",
            "  23082     6    53    24   269   222    19    39     4 15173    38  1904\n",
            "     21    13   123     6    24  2551   190   127   458     9   689    67\n",
            "     21    13   123     4   725 11695     4  2847   203    13 11163     6\n",
            "     38    21  3999 10028    19     5   689    38   802     9 12926 33362\n",
            "      7   146  2185  1372     4  1708    38 46405     4   572  3630     6\n",
            "   1714    11     7   127 17059     6     8   439  1236  1043 13299   118\n",
            "     19 21702     6     8    55 21702    14    52   646 16604   196   742\n",
            "     13   142    38    21  6023     9     5  2933     4    38  4021  1458\n",
            "   4716  1536    11     5   514     4   243    21   269  1481   118  1638\n",
            "      4   725 11695     4 17672  6190    24    23   363     4 30872    98\n",
            "    430    11     5   183     4 38184 26970   676    14  2532    65   183\n",
            "     38    40  4309   142    38  1395   342     5  1254   159   259     4\n",
            "   2846   112   112     2     1     1     1     1     1     1     1     1\n",
            "      1     1     1     1     1     1     1     1     1     1     1     1\n",
            "      1     1     1     1     1     1     1     1     1     1     1     1\n",
            "      1     1     1     1     1     1     1     1     1     1     1     1\n",
            "      1     1     1     1     1     1     1     1     1     1     1     1\n",
            "      1     1     1     1     1     1     1     1     1     1     1     1\n",
            "      1     1     1     1     1     1     1     1     1     1     1     1\n",
            "      1     1     1     1     1     1     1     1     1     1     1     1\n",
            "      1     1     1     1     1     1     1     1     1     1     1     1\n",
            "      1     1     1     1     1     1     1     1     1     1     1     1\n",
            "      1     1     1     1     1     1     1     1     1     1     1     1\n",
            "      1     1     1     1     1     1     1     1     1     1     1     1\n",
            "      1     1     1     1     1     1     1     1     1     1     1     1\n",
            "      1     1     1     1     1     1     1     1     1     1     1     1\n",
            "      1     1     1     1     1     1     1     1     1     1     1     1\n",
            "      1     1     1     1     1     1     1     1     1     1     1     1\n",
            "      1     1     1     1     1     1     1     1     1     1     1     1\n",
            "      1     1     1     1     1     1     1     1     1     1     1     1\n",
            "      1     1     1     1     1     1     1     1     1     1     1     1\n",
            "      1     1     1     1     1     1     1     1     1     1     1     1\n",
            "      1     1     1     1     1     1     1     1     1     1     1     1\n",
            "      1     1     1     1     1     1     1     1     1     1     1     1\n",
            "      1     1     1     1     1     1     1     1     1     1     1     1\n",
            "      1     1     1     1     1     1     1     1     1     1     1     1\n",
            "      1     1     1     1     1     1     1     1     1     1     1     1\n",
            "      1     1     1     1     1     1     1     1     1     1     1     1\n",
            "      1     1     1     1     1     1     1     1     1     1     1     1\n",
            "      1     1     1     1     1     1     1     1     1     1     1     1\n",
            "      1     1     1     1     1     1     1     1]], shape=(1, 512), dtype=int32)\n",
            "tf.Tensor(\n",
            "[[1 1 1 1 1 1 1 1 1 1 1 1 1 1 1 1 1 1 1 1 1 1 1 1 1 1 1 1 1 1 1 1 1 1 1 1\n",
            "  1 1 1 1 1 1 1 1 1 1 1 1 1 1 1 1 1 1 1 1 1 1 1 1 1 1 1 1 1 1 1 1 1 1 1 1\n",
            "  1 1 1 1 1 1 1 1 1 1 1 1 1 1 1 1 1 1 1 1 1 1 1 1 1 1 1 1 1 1 1 1 1 1 1 1\n",
            "  1 1 1 1 1 1 1 1 1 1 1 1 1 1 1 1 1 1 1 1 1 1 1 1 1 1 1 1 1 1 1 1 1 1 1 1\n",
            "  1 1 1 1 1 1 1 1 1 1 1 1 1 1 1 1 1 1 1 1 1 1 1 1 1 1 1 1 0 0 0 0 0 0 0 0\n",
            "  0 0 0 0 0 0 0 0 0 0 0 0 0 0 0 0 0 0 0 0 0 0 0 0 0 0 0 0 0 0 0 0 0 0 0 0\n",
            "  0 0 0 0 0 0 0 0 0 0 0 0 0 0 0 0 0 0 0 0 0 0 0 0 0 0 0 0 0 0 0 0 0 0 0 0\n",
            "  0 0 0 0 0 0 0 0 0 0 0 0 0 0 0 0 0 0 0 0 0 0 0 0 0 0 0 0 0 0 0 0 0 0 0 0\n",
            "  0 0 0 0 0 0 0 0 0 0 0 0 0 0 0 0 0 0 0 0 0 0 0 0 0 0 0 0 0 0 0 0 0 0 0 0\n",
            "  0 0 0 0 0 0 0 0 0 0 0 0 0 0 0 0 0 0 0 0 0 0 0 0 0 0 0 0 0 0 0 0 0 0 0 0\n",
            "  0 0 0 0 0 0 0 0 0 0 0 0 0 0 0 0 0 0 0 0 0 0 0 0 0 0 0 0 0 0 0 0 0 0 0 0\n",
            "  0 0 0 0 0 0 0 0 0 0 0 0 0 0 0 0 0 0 0 0 0 0 0 0 0 0 0 0 0 0 0 0 0 0 0 0\n",
            "  0 0 0 0 0 0 0 0 0 0 0 0 0 0 0 0 0 0 0 0 0 0 0 0 0 0 0 0 0 0 0 0 0 0 0 0\n",
            "  0 0 0 0 0 0 0 0 0 0 0 0 0 0 0 0 0 0 0 0 0 0 0 0 0 0 0 0 0 0 0 0 0 0 0 0\n",
            "  0 0 0 0 0 0 0 0]], shape=(1, 512), dtype=int32)\n",
            "tf.Tensor(\n",
            "[[    0 21136   378   961 12846    38    95   770     7  3116    10  2119\n",
            "    618     7   905    47   216    59    70     5  8354    38   348    56\n",
            "     98   444    42   983     4  9427    77    38    26   127   301   197\n",
            "     28   156    88    10  2015   311   116    85   269   197   734   407\n",
            "   2350    71   173    38  1145  8679     6 12022 20684     8   103   643\n",
            "   3301    13  1372  1946     8   172     7   213   192     5  1971   423\n",
            "      4    38    56    10   319   350   203  1531     8   938    75   441\n",
            "      7  1305   184    98    38   300    10  3068    31  8679   359 12022\n",
            "  20684    36 39563   456  1669 31897    38    56   726  1113   185   162\n",
            "   3301     7   120   127   512    42   662     4  5823   132   321     2\n",
            "      1     1     1     1     1     1     1     1     1     1     1     1\n",
            "      1     1     1     1     1     1     1     1     1     1     1     1\n",
            "      1     1     1     1     1     1     1     1     1     1     1     1\n",
            "      1     1     1     1     1     1     1     1     1     1     1     1\n",
            "      1     1     1     1     1     1     1     1     1     1     1     1\n",
            "      1     1     1     1     1     1     1     1     1     1     1     1\n",
            "      1     1     1     1     1     1     1     1     1     1     1     1\n",
            "      1     1     1     1     1     1     1     1     1     1     1     1\n",
            "      1     1     1     1     1     1     1     1     1     1     1     1\n",
            "      1     1     1     1     1     1     1     1     1     1     1     1\n",
            "      1     1     1     1     1     1     1     1     1     1     1     1\n",
            "      1     1     1     1     1     1     1     1     1     1     1     1\n",
            "      1     1     1     1     1     1     1     1     1     1     1     1\n",
            "      1     1     1     1     1     1     1     1     1     1     1     1\n",
            "      1     1     1     1     1     1     1     1     1     1     1     1\n",
            "      1     1     1     1     1     1     1     1     1     1     1     1\n",
            "      1     1     1     1     1     1     1     1     1     1     1     1\n",
            "      1     1     1     1     1     1     1     1     1     1     1     1\n",
            "      1     1     1     1     1     1     1     1     1     1     1     1\n",
            "      1     1     1     1     1     1     1     1     1     1     1     1\n",
            "      1     1     1     1     1     1     1     1     1     1     1     1\n",
            "      1     1     1     1     1     1     1     1     1     1     1     1\n",
            "      1     1     1     1     1     1     1     1     1     1     1     1\n",
            "      1     1     1     1     1     1     1     1     1     1     1     1\n",
            "      1     1     1     1     1     1     1     1     1     1     1     1\n",
            "      1     1     1     1     1     1     1     1     1     1     1     1\n",
            "      1     1     1     1     1     1     1     1     1     1     1     1\n",
            "      1     1     1     1     1     1     1     1     1     1     1     1\n",
            "      1     1     1     1     1     1     1     1     1     1     1     1\n",
            "      1     1     1     1     1     1     1     1     1     1     1     1\n",
            "      1     1     1     1     1     1     1     1     1     1     1     1\n",
            "      1     1     1     1     1     1     1     1     1     1     1     1\n",
            "      1     1     1     1     1     1     1     1]], shape=(1, 512), dtype=int32)\n",
            "tf.Tensor(\n",
            "[[1 1 1 1 1 1 1 1 1 1 1 1 1 1 1 1 1 1 1 1 1 1 1 1 1 1 1 1 1 1 1 1 1 1 1 1\n",
            "  1 1 1 1 1 1 1 1 1 1 1 1 1 1 1 1 1 1 1 1 1 1 1 1 1 1 1 1 1 1 1 1 1 1 1 1\n",
            "  1 1 1 1 1 1 1 1 1 1 1 1 1 1 1 1 1 1 1 1 1 1 1 1 1 1 1 1 1 1 1 1 1 1 1 1\n",
            "  1 1 1 1 1 1 1 1 1 1 1 1 0 0 0 0 0 0 0 0 0 0 0 0 0 0 0 0 0 0 0 0 0 0 0 0\n",
            "  0 0 0 0 0 0 0 0 0 0 0 0 0 0 0 0 0 0 0 0 0 0 0 0 0 0 0 0 0 0 0 0 0 0 0 0\n",
            "  0 0 0 0 0 0 0 0 0 0 0 0 0 0 0 0 0 0 0 0 0 0 0 0 0 0 0 0 0 0 0 0 0 0 0 0\n",
            "  0 0 0 0 0 0 0 0 0 0 0 0 0 0 0 0 0 0 0 0 0 0 0 0 0 0 0 0 0 0 0 0 0 0 0 0\n",
            "  0 0 0 0 0 0 0 0 0 0 0 0 0 0 0 0 0 0 0 0 0 0 0 0 0 0 0 0 0 0 0 0 0 0 0 0\n",
            "  0 0 0 0 0 0 0 0 0 0 0 0 0 0 0 0 0 0 0 0 0 0 0 0 0 0 0 0 0 0 0 0 0 0 0 0\n",
            "  0 0 0 0 0 0 0 0 0 0 0 0 0 0 0 0 0 0 0 0 0 0 0 0 0 0 0 0 0 0 0 0 0 0 0 0\n",
            "  0 0 0 0 0 0 0 0 0 0 0 0 0 0 0 0 0 0 0 0 0 0 0 0 0 0 0 0 0 0 0 0 0 0 0 0\n",
            "  0 0 0 0 0 0 0 0 0 0 0 0 0 0 0 0 0 0 0 0 0 0 0 0 0 0 0 0 0 0 0 0 0 0 0 0\n",
            "  0 0 0 0 0 0 0 0 0 0 0 0 0 0 0 0 0 0 0 0 0 0 0 0 0 0 0 0 0 0 0 0 0 0 0 0\n",
            "  0 0 0 0 0 0 0 0 0 0 0 0 0 0 0 0 0 0 0 0 0 0 0 0 0 0 0 0 0 0 0 0 0 0 0 0\n",
            "  0 0 0 0 0 0 0 0]], shape=(1, 512), dtype=int32)\n"
          ]
        }
      ],
      "source": [
        "print(X_train_ids[0])\n",
        "print(X_train_attention[0])\n",
        "print(X_test_ids[0])\n",
        "print(X_test_attention[0])"
      ]
    },
    {
      "cell_type": "code",
      "execution_count": null,
      "metadata": {
        "id": "ymrxSsSTQUfh"
      },
      "outputs": [],
      "source": [
        "METRICS = [\n",
        "      'accuracy',\n",
        "      tf.keras.metrics.Precision(name='precision'),\n",
        "      tf.keras.metrics.Recall(name='recall')\n",
        "]"
      ]
    },
    {
      "cell_type": "code",
      "execution_count": null,
      "metadata": {
        "id": "P4bdcdqvQaQB"
      },
      "outputs": [],
      "source": [
        "def unfreeze_model(model):\n",
        "    # Used for fine-tuning the model\n",
        "    # We unfreeze the top 20 layers while leaving BatchNorm layers frozen\n",
        "    for layer in model.layers[-20:]:\n",
        "        layer.trainable = True\n",
        "\n",
        "    return model"
      ]
    },
    {
      "cell_type": "code",
      "execution_count": null,
      "metadata": {
        "colab": {
          "base_uri": "https://localhost:8080/",
          "height": 156,
          "referenced_widgets": [
            "d89b593936854d6ababaf2be2dde8fd7",
            "a49f6a1a48f14783907a883a5fdac590",
            "73bfb83d0a5c456ca548f325ed2036f9",
            "e538afa05e82439582a5f57252d450d3",
            "9485436e9cb14281bdaa8355f52e2148",
            "7dedd37d9d3c4118afc52a310305ed20",
            "cacd89445d53420ebe738e5789f67620",
            "dd6fac91c983484ba9173e4b2b8975ed",
            "f3ba4290ee61459ebf5996d5da040203",
            "c21c3cf0723447a9863fee97066d125e",
            "89746b38cd6f4abdb6f6c45aae37319c"
          ]
        },
        "id": "ns4OTloztAOM",
        "outputId": "4ec01848-1386-4a08-b0e8-c84a9b814f9f"
      },
      "outputs": [
        {
          "output_type": "display_data",
          "data": {
            "application/vnd.jupyter.widget-view+json": {
              "model_id": "d89b593936854d6ababaf2be2dde8fd7",
              "version_minor": 0,
              "version_major": 2
            },
            "text/plain": [
              "Downloading:   0%|          | 0.00/627M [00:00<?, ?B/s]"
            ]
          },
          "metadata": {}
        },
        {
          "output_type": "stream",
          "name": "stderr",
          "text": [
            "Some layers from the model checkpoint at roberta-base were not used when initializing TFRobertaModel: ['lm_head']\n",
            "- This IS expected if you are initializing TFRobertaModel from the checkpoint of a model trained on another task or with another architecture (e.g. initializing a BertForSequenceClassification model from a BertForPreTraining model).\n",
            "- This IS NOT expected if you are initializing TFRobertaModel from the checkpoint of a model that you expect to be exactly identical (initializing a BertForSequenceClassification model from a BertForSequenceClassification model).\n",
            "All the layers of TFRobertaModel were initialized from the model checkpoint at roberta-base.\n",
            "If your task is similar to the task the model of the checkpoint was trained on, you can already use TFRobertaModel for predictions without further training.\n"
          ]
        }
      ],
      "source": [
        "LAYER_DROPOUT = 0.2\n",
        "# LEARNING_RATE = 5e-3\n",
        "RANDOM_STATE = 1\n",
        "\n",
        "init_lr = 5e-4\n",
        "lr_schedule = tf.keras.optimizers.schedules.ExponentialDecay(\n",
        "    init_lr,\n",
        "    decay_steps=600,\n",
        "    decay_rate=0.75,\n",
        "    staircase=True)\n",
        "# 600 / 78 = nr of epochs before wd modifies lr\n",
        "\n",
        "loss = tf.keras.losses.BinaryCrossentropy()\n",
        "\n",
        "transformer_model = TFRobertaModel.from_pretrained('roberta-base')\n",
        "transformer_model.trainable = False\n",
        "transformer_model = unfreeze_model(transformer_model)\n",
        "\n",
        "weight_initializer = tf.keras.initializers.GlorotNormal(seed=RANDOM_STATE)\n",
        "\n",
        "def build_classifier_model_ft(transformer):\n",
        "  input_ids_layer = tf.keras.layers.Input(shape=(512,), \n",
        "                                            name='input_ids', \n",
        "                                            dtype='int32')\n",
        "  input_attention_layer = tf.keras.layers.Input(shape=(512,), \n",
        "                                                  name='input_attention', \n",
        "                                                  dtype='int32')\n",
        "    \n",
        "  last_hidden_state = transformer([input_ids_layer, input_attention_layer])[0]\n",
        "  \n",
        "  cls_token = last_hidden_state[:, 0, :]\n",
        "\n",
        "  output = tf.keras.layers.Dense(2, activation='sigmoid', \n",
        "                                 kernel_initializer=weight_initializer,  kernel_constraint=None,\n",
        "                                 bias_initializer='zeros')(cls_token)\n",
        "\n",
        "  model = tf.keras.Model([input_ids_layer, input_attention_layer], output)\n",
        "  model.compile(tf.keras.optimizers.Adam(learning_rate=lr_schedule), loss=loss, metrics=METRICS)\n",
        "\n",
        "  return model\n",
        "\n",
        "model = build_classifier_model_ft(transformer_model)"
      ]
    },
    {
      "cell_type": "code",
      "execution_count": null,
      "metadata": {
        "id": "-fsdD2cWwtPp"
      },
      "outputs": [],
      "source": [
        "# print(len(X_train_ids))\n",
        "# k = tf.convert_to_tensor(X_train_ids)\n",
        "# print(len(k))\n",
        "# print(len(X_train_attention))\n",
        "# print(len(y_train))\n",
        "# deeper\n",
        "X_train_ids_1 = tf.convert_to_tensor([o[0] for o in X_train_ids])\n",
        "X_train_attention_1 = tf.convert_to_tensor([o[0] for o in X_train_attention])\n",
        "X_test_ids_1 = tf.convert_to_tensor([o[0] for o in X_test_ids])\n",
        "X_test_attention_1 = tf.convert_to_tensor([o[0] for o in X_test_attention])\n",
        "# print(X_train_ids[0][0])\n",
        "# print(X_train_ids_1[0])\n",
        "# print(X_train_attention[0][0])\n",
        "# print(y_train[0])\n",
        "\n",
        "# X_train_ids_2 = tf.stack(X_train_ids)\n",
        "# X_train_attention_2 = tf.stack(X_train_attention)\n",
        "# y_train_2 = tf.stack(y_train)"
      ]
    },
    {
      "cell_type": "code",
      "source": [
        "# model = tf.keras.models.load_model('roberta_69.h5')\n",
        "model.load_weights('roberta_70')\n",
        "\n",
        "model.evaluate((X_test_ids_1, X_test_attention_1), y_test)"
      ],
      "metadata": {
        "colab": {
          "base_uri": "https://localhost:8080/"
        },
        "id": "dfjeyHKz08iZ",
        "outputId": "135c147f-f865-4286-d6b2-6618a7ce66b2"
      },
      "execution_count": null,
      "outputs": [
        {
          "output_type": "stream",
          "name": "stdout",
          "text": [
            "20/20 [==============================] - 47s 2s/step - loss: 0.5857 - accuracy: 0.7029 - precision: 0.7064 - recall: 0.7029\n"
          ]
        },
        {
          "output_type": "execute_result",
          "data": {
            "text/plain": [
              "[0.5857049822807312,\n",
              " 0.7029221057891846,\n",
              " 0.7063621282577515,\n",
              " 0.7029221057891846]"
            ]
          },
          "metadata": {},
          "execution_count": 34
        }
      ]
    },
    {
      "cell_type": "code",
      "execution_count": null,
      "metadata": {
        "colab": {
          "base_uri": "https://localhost:8080/",
          "height": 1000
        },
        "id": "xnaJE20BuMUQ",
        "outputId": "cd5336ef-9c7f-4e9f-9367-9ebed99e01bf"
      },
      "outputs": [
        {
          "output_type": "stream",
          "name": "stdout",
          "text": [
            "Epoch 1/50\n",
            "77/77 [==============================] - 267s 3s/step - loss: 0.5959 - accuracy: 0.6858 - precision: 0.6795 - recall: 0.6798 - val_loss: 0.5840 - val_accuracy: 0.6981 - val_precision: 0.7010 - val_recall: 0.6964\n",
            "Epoch 2/50\n",
            "77/77 [==============================] - 246s 3s/step - loss: 0.5931 - accuracy: 0.6797 - precision: 0.6786 - recall: 0.6797 - val_loss: 0.5837 - val_accuracy: 0.6981 - val_precision: 0.6971 - val_recall: 0.6948\n",
            "Epoch 3/50\n",
            "77/77 [==============================] - 246s 3s/step - loss: 0.5976 - accuracy: 0.6740 - precision: 0.6752 - recall: 0.6752 - val_loss: 0.5836 - val_accuracy: 0.6932 - val_precision: 0.6921 - val_recall: 0.6932\n",
            "Epoch 4/50\n",
            "77/77 [==============================] - 247s 3s/step - loss: 0.5893 - accuracy: 0.6805 - precision: 0.6800 - recall: 0.6797 - val_loss: 0.5837 - val_accuracy: 0.6997 - val_precision: 0.7008 - val_recall: 0.6997\n",
            "Epoch 5/50\n",
            "77/77 [==============================] - 247s 3s/step - loss: 0.5892 - accuracy: 0.6805 - precision: 0.6786 - recall: 0.6789 - val_loss: 0.5838 - val_accuracy: 0.6997 - val_precision: 0.7003 - val_recall: 0.6981\n",
            "Epoch 6/50\n",
            "77/77 [==============================] - 246s 3s/step - loss: 0.5919 - accuracy: 0.6837 - precision: 0.6838 - recall: 0.6850 - val_loss: 0.5837 - val_accuracy: 0.6997 - val_precision: 0.7008 - val_recall: 0.6997\n",
            "Epoch 7/50\n",
            "77/77 [==============================] - 246s 3s/step - loss: 0.5968 - accuracy: 0.6825 - precision: 0.6813 - recall: 0.6829 - val_loss: 0.5837 - val_accuracy: 0.6997 - val_precision: 0.6992 - val_recall: 0.6981\n",
            "Epoch 8/50\n",
            "77/77 [==============================] - 247s 3s/step - loss: 0.5934 - accuracy: 0.6833 - precision: 0.6838 - recall: 0.6850 - val_loss: 0.5837 - val_accuracy: 0.6997 - val_precision: 0.7008 - val_recall: 0.6997\n",
            "Epoch 9/50\n",
            "77/77 [==============================] - 246s 3s/step - loss: 0.5901 - accuracy: 0.6764 - precision: 0.6767 - recall: 0.6772 - val_loss: 0.5836 - val_accuracy: 0.6997 - val_precision: 0.6992 - val_recall: 0.6981\n",
            "Epoch 10/50\n",
            "77/77 [==============================] - 246s 3s/step - loss: 0.5924 - accuracy: 0.6846 - precision: 0.6855 - recall: 0.6841 - val_loss: 0.5836 - val_accuracy: 0.6997 - val_precision: 0.7008 - val_recall: 0.6997\n",
            "Epoch 11/50\n",
            "77/77 [==============================] - 246s 3s/step - loss: 0.5944 - accuracy: 0.6675 - precision: 0.6676 - recall: 0.6679 - val_loss: 0.5836 - val_accuracy: 0.6997 - val_precision: 0.6992 - val_recall: 0.6981\n",
            "Epoch 12/50\n",
            "77/77 [==============================] - 247s 3s/step - loss: 0.5951 - accuracy: 0.6801 - precision: 0.6790 - recall: 0.6793 - val_loss: 0.5837 - val_accuracy: 0.6997 - val_precision: 0.7003 - val_recall: 0.6981\n",
            "Epoch 13/50\n",
            "77/77 [==============================] - 247s 3s/step - loss: 0.5998 - accuracy: 0.6821 - precision: 0.6806 - recall: 0.6825 - val_loss: 0.5836 - val_accuracy: 0.6997 - val_precision: 0.6997 - val_recall: 0.6997\n",
            "Epoch 14/50\n",
            "77/77 [==============================] - 246s 3s/step - loss: 0.5964 - accuracy: 0.6797 - precision: 0.6781 - recall: 0.6809 - val_loss: 0.5837 - val_accuracy: 0.6997 - val_precision: 0.7003 - val_recall: 0.6981\n",
            "Epoch 15/50\n",
            "77/77 [==============================] - 246s 3s/step - loss: 0.5958 - accuracy: 0.6874 - precision: 0.6841 - recall: 0.6866 - val_loss: 0.5837 - val_accuracy: 0.6997 - val_precision: 0.7003 - val_recall: 0.6981\n",
            "Epoch 16/50\n",
            "77/77 [==============================] - 247s 3s/step - loss: 0.5984 - accuracy: 0.6732 - precision: 0.6740 - recall: 0.6740 - val_loss: 0.5837 - val_accuracy: 0.6997 - val_precision: 0.7003 - val_recall: 0.6981\n",
            "Epoch 17/50\n",
            "77/77 [==============================] - 247s 3s/step - loss: 0.5981 - accuracy: 0.6764 - precision: 0.6756 - recall: 0.6780 - val_loss: 0.5837 - val_accuracy: 0.6997 - val_precision: 0.6992 - val_recall: 0.6981\n",
            "Epoch 18/50\n",
            "77/77 [==============================] - 246s 3s/step - loss: 0.5961 - accuracy: 0.6821 - precision: 0.6819 - recall: 0.6813 - val_loss: 0.5837 - val_accuracy: 0.6997 - val_precision: 0.7003 - val_recall: 0.6981\n",
            "Epoch 19/50\n",
            "21/77 [=======>......................] - ETA: 2:27 - loss: 0.5944 - accuracy: 0.6637 - precision: 0.6622 - recall: 0.6622"
          ]
        },
        {
          "output_type": "error",
          "ename": "KeyboardInterrupt",
          "evalue": "ignored",
          "traceback": [
            "\u001b[0;31m---------------------------------------------------------------------------\u001b[0m",
            "\u001b[0;31mKeyboardInterrupt\u001b[0m                         Traceback (most recent call last)",
            "\u001b[0;32m<ipython-input-57-1eff78b6f90f>\u001b[0m in \u001b[0;36m<module>\u001b[0;34m()\u001b[0m\n\u001b[1;32m      8\u001b[0m     \u001b[0mbatch_size\u001b[0m \u001b[0;34m=\u001b[0m \u001b[0mBATCH_SIZE\u001b[0m\u001b[0;34m,\u001b[0m\u001b[0;34m\u001b[0m\u001b[0;34m\u001b[0m\u001b[0m\n\u001b[1;32m      9\u001b[0m     \u001b[0mvalidation_data\u001b[0m \u001b[0;34m=\u001b[0m \u001b[0;34m(\u001b[0m\u001b[0;34m(\u001b[0m\u001b[0mX_test_ids_1\u001b[0m\u001b[0;34m,\u001b[0m \u001b[0mX_test_attention_1\u001b[0m\u001b[0;34m)\u001b[0m\u001b[0;34m,\u001b[0m \u001b[0my_test\u001b[0m\u001b[0;34m)\u001b[0m\u001b[0;34m,\u001b[0m\u001b[0;34m\u001b[0m\u001b[0;34m\u001b[0m\u001b[0m\n\u001b[0;32m---> 10\u001b[0;31m     \u001b[0mverbose\u001b[0m\u001b[0;34m=\u001b[0m\u001b[0;36m1\u001b[0m\u001b[0;34m\u001b[0m\u001b[0;34m\u001b[0m\u001b[0m\n\u001b[0m\u001b[1;32m     11\u001b[0m )\n",
            "\u001b[0;32m/usr/local/lib/python3.7/dist-packages/keras/utils/traceback_utils.py\u001b[0m in \u001b[0;36merror_handler\u001b[0;34m(*args, **kwargs)\u001b[0m\n\u001b[1;32m     62\u001b[0m     \u001b[0mfiltered_tb\u001b[0m \u001b[0;34m=\u001b[0m \u001b[0;32mNone\u001b[0m\u001b[0;34m\u001b[0m\u001b[0;34m\u001b[0m\u001b[0m\n\u001b[1;32m     63\u001b[0m     \u001b[0;32mtry\u001b[0m\u001b[0;34m:\u001b[0m\u001b[0;34m\u001b[0m\u001b[0;34m\u001b[0m\u001b[0m\n\u001b[0;32m---> 64\u001b[0;31m       \u001b[0;32mreturn\u001b[0m \u001b[0mfn\u001b[0m\u001b[0;34m(\u001b[0m\u001b[0;34m*\u001b[0m\u001b[0margs\u001b[0m\u001b[0;34m,\u001b[0m \u001b[0;34m**\u001b[0m\u001b[0mkwargs\u001b[0m\u001b[0;34m)\u001b[0m\u001b[0;34m\u001b[0m\u001b[0;34m\u001b[0m\u001b[0m\n\u001b[0m\u001b[1;32m     65\u001b[0m     \u001b[0;32mexcept\u001b[0m \u001b[0mException\u001b[0m \u001b[0;32mas\u001b[0m \u001b[0me\u001b[0m\u001b[0;34m:\u001b[0m  \u001b[0;31m# pylint: disable=broad-except\u001b[0m\u001b[0;34m\u001b[0m\u001b[0;34m\u001b[0m\u001b[0m\n\u001b[1;32m     66\u001b[0m       \u001b[0mfiltered_tb\u001b[0m \u001b[0;34m=\u001b[0m \u001b[0m_process_traceback_frames\u001b[0m\u001b[0;34m(\u001b[0m\u001b[0me\u001b[0m\u001b[0;34m.\u001b[0m\u001b[0m__traceback__\u001b[0m\u001b[0;34m)\u001b[0m\u001b[0;34m\u001b[0m\u001b[0;34m\u001b[0m\u001b[0m\n",
            "\u001b[0;32m/usr/local/lib/python3.7/dist-packages/keras/engine/training.py\u001b[0m in \u001b[0;36mfit\u001b[0;34m(self, x, y, batch_size, epochs, verbose, callbacks, validation_split, validation_data, shuffle, class_weight, sample_weight, initial_epoch, steps_per_epoch, validation_steps, validation_batch_size, validation_freq, max_queue_size, workers, use_multiprocessing)\u001b[0m\n\u001b[1;32m   1214\u001b[0m                 _r=1):\n\u001b[1;32m   1215\u001b[0m               \u001b[0mcallbacks\u001b[0m\u001b[0;34m.\u001b[0m\u001b[0mon_train_batch_begin\u001b[0m\u001b[0;34m(\u001b[0m\u001b[0mstep\u001b[0m\u001b[0;34m)\u001b[0m\u001b[0;34m\u001b[0m\u001b[0;34m\u001b[0m\u001b[0m\n\u001b[0;32m-> 1216\u001b[0;31m               \u001b[0mtmp_logs\u001b[0m \u001b[0;34m=\u001b[0m \u001b[0mself\u001b[0m\u001b[0;34m.\u001b[0m\u001b[0mtrain_function\u001b[0m\u001b[0;34m(\u001b[0m\u001b[0miterator\u001b[0m\u001b[0;34m)\u001b[0m\u001b[0;34m\u001b[0m\u001b[0;34m\u001b[0m\u001b[0m\n\u001b[0m\u001b[1;32m   1217\u001b[0m               \u001b[0;32mif\u001b[0m \u001b[0mdata_handler\u001b[0m\u001b[0;34m.\u001b[0m\u001b[0mshould_sync\u001b[0m\u001b[0;34m:\u001b[0m\u001b[0;34m\u001b[0m\u001b[0;34m\u001b[0m\u001b[0m\n\u001b[1;32m   1218\u001b[0m                 \u001b[0mcontext\u001b[0m\u001b[0;34m.\u001b[0m\u001b[0masync_wait\u001b[0m\u001b[0;34m(\u001b[0m\u001b[0;34m)\u001b[0m\u001b[0;34m\u001b[0m\u001b[0;34m\u001b[0m\u001b[0m\n",
            "\u001b[0;32m/usr/local/lib/python3.7/dist-packages/tensorflow/python/util/traceback_utils.py\u001b[0m in \u001b[0;36merror_handler\u001b[0;34m(*args, **kwargs)\u001b[0m\n\u001b[1;32m    148\u001b[0m     \u001b[0mfiltered_tb\u001b[0m \u001b[0;34m=\u001b[0m \u001b[0;32mNone\u001b[0m\u001b[0;34m\u001b[0m\u001b[0;34m\u001b[0m\u001b[0m\n\u001b[1;32m    149\u001b[0m     \u001b[0;32mtry\u001b[0m\u001b[0;34m:\u001b[0m\u001b[0;34m\u001b[0m\u001b[0;34m\u001b[0m\u001b[0m\n\u001b[0;32m--> 150\u001b[0;31m       \u001b[0;32mreturn\u001b[0m \u001b[0mfn\u001b[0m\u001b[0;34m(\u001b[0m\u001b[0;34m*\u001b[0m\u001b[0margs\u001b[0m\u001b[0;34m,\u001b[0m \u001b[0;34m**\u001b[0m\u001b[0mkwargs\u001b[0m\u001b[0;34m)\u001b[0m\u001b[0;34m\u001b[0m\u001b[0;34m\u001b[0m\u001b[0m\n\u001b[0m\u001b[1;32m    151\u001b[0m     \u001b[0;32mexcept\u001b[0m \u001b[0mException\u001b[0m \u001b[0;32mas\u001b[0m \u001b[0me\u001b[0m\u001b[0;34m:\u001b[0m\u001b[0;34m\u001b[0m\u001b[0;34m\u001b[0m\u001b[0m\n\u001b[1;32m    152\u001b[0m       \u001b[0mfiltered_tb\u001b[0m \u001b[0;34m=\u001b[0m \u001b[0m_process_traceback_frames\u001b[0m\u001b[0;34m(\u001b[0m\u001b[0me\u001b[0m\u001b[0;34m.\u001b[0m\u001b[0m__traceback__\u001b[0m\u001b[0;34m)\u001b[0m\u001b[0;34m\u001b[0m\u001b[0;34m\u001b[0m\u001b[0m\n",
            "\u001b[0;32m/usr/local/lib/python3.7/dist-packages/tensorflow/python/eager/def_function.py\u001b[0m in \u001b[0;36m__call__\u001b[0;34m(self, *args, **kwds)\u001b[0m\n\u001b[1;32m    908\u001b[0m \u001b[0;34m\u001b[0m\u001b[0m\n\u001b[1;32m    909\u001b[0m       \u001b[0;32mwith\u001b[0m \u001b[0mOptionalXlaContext\u001b[0m\u001b[0;34m(\u001b[0m\u001b[0mself\u001b[0m\u001b[0;34m.\u001b[0m\u001b[0m_jit_compile\u001b[0m\u001b[0;34m)\u001b[0m\u001b[0;34m:\u001b[0m\u001b[0;34m\u001b[0m\u001b[0;34m\u001b[0m\u001b[0m\n\u001b[0;32m--> 910\u001b[0;31m         \u001b[0mresult\u001b[0m \u001b[0;34m=\u001b[0m \u001b[0mself\u001b[0m\u001b[0;34m.\u001b[0m\u001b[0m_call\u001b[0m\u001b[0;34m(\u001b[0m\u001b[0;34m*\u001b[0m\u001b[0margs\u001b[0m\u001b[0;34m,\u001b[0m \u001b[0;34m**\u001b[0m\u001b[0mkwds\u001b[0m\u001b[0;34m)\u001b[0m\u001b[0;34m\u001b[0m\u001b[0;34m\u001b[0m\u001b[0m\n\u001b[0m\u001b[1;32m    911\u001b[0m \u001b[0;34m\u001b[0m\u001b[0m\n\u001b[1;32m    912\u001b[0m       \u001b[0mnew_tracing_count\u001b[0m \u001b[0;34m=\u001b[0m \u001b[0mself\u001b[0m\u001b[0;34m.\u001b[0m\u001b[0mexperimental_get_tracing_count\u001b[0m\u001b[0;34m(\u001b[0m\u001b[0;34m)\u001b[0m\u001b[0;34m\u001b[0m\u001b[0;34m\u001b[0m\u001b[0m\n",
            "\u001b[0;32m/usr/local/lib/python3.7/dist-packages/tensorflow/python/eager/def_function.py\u001b[0m in \u001b[0;36m_call\u001b[0;34m(self, *args, **kwds)\u001b[0m\n\u001b[1;32m    940\u001b[0m       \u001b[0;31m# In this case we have created variables on the first call, so we run the\u001b[0m\u001b[0;34m\u001b[0m\u001b[0;34m\u001b[0m\u001b[0;34m\u001b[0m\u001b[0m\n\u001b[1;32m    941\u001b[0m       \u001b[0;31m# defunned version which is guaranteed to never create variables.\u001b[0m\u001b[0;34m\u001b[0m\u001b[0;34m\u001b[0m\u001b[0;34m\u001b[0m\u001b[0m\n\u001b[0;32m--> 942\u001b[0;31m       \u001b[0;32mreturn\u001b[0m \u001b[0mself\u001b[0m\u001b[0;34m.\u001b[0m\u001b[0m_stateless_fn\u001b[0m\u001b[0;34m(\u001b[0m\u001b[0;34m*\u001b[0m\u001b[0margs\u001b[0m\u001b[0;34m,\u001b[0m \u001b[0;34m**\u001b[0m\u001b[0mkwds\u001b[0m\u001b[0;34m)\u001b[0m  \u001b[0;31m# pylint: disable=not-callable\u001b[0m\u001b[0;34m\u001b[0m\u001b[0;34m\u001b[0m\u001b[0m\n\u001b[0m\u001b[1;32m    943\u001b[0m     \u001b[0;32melif\u001b[0m \u001b[0mself\u001b[0m\u001b[0;34m.\u001b[0m\u001b[0m_stateful_fn\u001b[0m \u001b[0;32mis\u001b[0m \u001b[0;32mnot\u001b[0m \u001b[0;32mNone\u001b[0m\u001b[0;34m:\u001b[0m\u001b[0;34m\u001b[0m\u001b[0;34m\u001b[0m\u001b[0m\n\u001b[1;32m    944\u001b[0m       \u001b[0;31m# Release the lock early so that multiple threads can perform the call\u001b[0m\u001b[0;34m\u001b[0m\u001b[0;34m\u001b[0m\u001b[0;34m\u001b[0m\u001b[0m\n",
            "\u001b[0;32m/usr/local/lib/python3.7/dist-packages/tensorflow/python/eager/function.py\u001b[0m in \u001b[0;36m__call__\u001b[0;34m(self, *args, **kwargs)\u001b[0m\n\u001b[1;32m   3129\u001b[0m        filtered_flat_args) = self._maybe_define_function(args, kwargs)\n\u001b[1;32m   3130\u001b[0m     return graph_function._call_flat(\n\u001b[0;32m-> 3131\u001b[0;31m         filtered_flat_args, captured_inputs=graph_function.captured_inputs)  # pylint: disable=protected-access\n\u001b[0m\u001b[1;32m   3132\u001b[0m \u001b[0;34m\u001b[0m\u001b[0m\n\u001b[1;32m   3133\u001b[0m   \u001b[0;34m@\u001b[0m\u001b[0mproperty\u001b[0m\u001b[0;34m\u001b[0m\u001b[0;34m\u001b[0m\u001b[0m\n",
            "\u001b[0;32m/usr/local/lib/python3.7/dist-packages/tensorflow/python/eager/function.py\u001b[0m in \u001b[0;36m_call_flat\u001b[0;34m(self, args, captured_inputs, cancellation_manager)\u001b[0m\n\u001b[1;32m   1958\u001b[0m       \u001b[0;31m# No tape is watching; skip to running the function.\u001b[0m\u001b[0;34m\u001b[0m\u001b[0;34m\u001b[0m\u001b[0;34m\u001b[0m\u001b[0m\n\u001b[1;32m   1959\u001b[0m       return self._build_call_outputs(self._inference_function.call(\n\u001b[0;32m-> 1960\u001b[0;31m           ctx, args, cancellation_manager=cancellation_manager))\n\u001b[0m\u001b[1;32m   1961\u001b[0m     forward_backward = self._select_forward_and_backward_functions(\n\u001b[1;32m   1962\u001b[0m         \u001b[0margs\u001b[0m\u001b[0;34m,\u001b[0m\u001b[0;34m\u001b[0m\u001b[0;34m\u001b[0m\u001b[0m\n",
            "\u001b[0;32m/usr/local/lib/python3.7/dist-packages/tensorflow/python/eager/function.py\u001b[0m in \u001b[0;36mcall\u001b[0;34m(self, ctx, args, cancellation_manager)\u001b[0m\n\u001b[1;32m    601\u001b[0m               \u001b[0minputs\u001b[0m\u001b[0;34m=\u001b[0m\u001b[0margs\u001b[0m\u001b[0;34m,\u001b[0m\u001b[0;34m\u001b[0m\u001b[0;34m\u001b[0m\u001b[0m\n\u001b[1;32m    602\u001b[0m               \u001b[0mattrs\u001b[0m\u001b[0;34m=\u001b[0m\u001b[0mattrs\u001b[0m\u001b[0;34m,\u001b[0m\u001b[0;34m\u001b[0m\u001b[0;34m\u001b[0m\u001b[0m\n\u001b[0;32m--> 603\u001b[0;31m               ctx=ctx)\n\u001b[0m\u001b[1;32m    604\u001b[0m         \u001b[0;32melse\u001b[0m\u001b[0;34m:\u001b[0m\u001b[0;34m\u001b[0m\u001b[0;34m\u001b[0m\u001b[0m\n\u001b[1;32m    605\u001b[0m           outputs = execute.execute_with_cancellation(\n",
            "\u001b[0;32m/usr/local/lib/python3.7/dist-packages/tensorflow/python/eager/execute.py\u001b[0m in \u001b[0;36mquick_execute\u001b[0;34m(op_name, num_outputs, inputs, attrs, ctx, name)\u001b[0m\n\u001b[1;32m     57\u001b[0m     \u001b[0mctx\u001b[0m\u001b[0;34m.\u001b[0m\u001b[0mensure_initialized\u001b[0m\u001b[0;34m(\u001b[0m\u001b[0;34m)\u001b[0m\u001b[0;34m\u001b[0m\u001b[0;34m\u001b[0m\u001b[0m\n\u001b[1;32m     58\u001b[0m     tensors = pywrap_tfe.TFE_Py_Execute(ctx._handle, device_name, op_name,\n\u001b[0;32m---> 59\u001b[0;31m                                         inputs, attrs, num_outputs)\n\u001b[0m\u001b[1;32m     60\u001b[0m   \u001b[0;32mexcept\u001b[0m \u001b[0mcore\u001b[0m\u001b[0;34m.\u001b[0m\u001b[0m_NotOkStatusException\u001b[0m \u001b[0;32mas\u001b[0m \u001b[0me\u001b[0m\u001b[0;34m:\u001b[0m\u001b[0;34m\u001b[0m\u001b[0;34m\u001b[0m\u001b[0m\n\u001b[1;32m     61\u001b[0m     \u001b[0;32mif\u001b[0m \u001b[0mname\u001b[0m \u001b[0;32mis\u001b[0m \u001b[0;32mnot\u001b[0m \u001b[0;32mNone\u001b[0m\u001b[0;34m:\u001b[0m\u001b[0;34m\u001b[0m\u001b[0;34m\u001b[0m\u001b[0m\n",
            "\u001b[0;31mKeyboardInterrupt\u001b[0m: "
          ]
        }
      ],
      "source": [
        "EPOCHS = 50\n",
        "BATCH_SIZE = 32\n",
        "# Train the model\n",
        "train_history1 = model.fit(\n",
        "    x = (X_train_ids_1, X_train_attention_1),\n",
        "    y = y_train,\n",
        "    epochs = EPOCHS,\n",
        "    batch_size = BATCH_SIZE,\n",
        "    validation_data = ((X_test_ids_1, X_test_attention_1), y_test),\n",
        "    verbose=1\n",
        ")"
      ]
    },
    {
      "cell_type": "code",
      "source": [
        "model.save_weights('roberta_70x')\n",
        "# stop here"
      ],
      "metadata": {
        "id": "pKpwmE97ZlG-"
      },
      "execution_count": null,
      "outputs": []
    },
    {
      "cell_type": "code",
      "source": [
        "# use this for the confusion matrix and metrics to add in the paper\n",
        "from sklearn.metrics import confusion_matrix, classification_report\n",
        "from sklearn.metrics import accuracy_score, f1_score, precision_score,recall_score\n",
        "\n",
        "y_predicted = model.predict((X_test_ids_1, X_test_attention_1))\n",
        "y_predicted_modeled = tf.math.argmax(y_predicted,axis=1)\n",
        "print(np.unique(y_predicted_modeled))\n",
        "y_test_modeled =  tf.math.argmax(y_test,axis=1)\n",
        "\n",
        "cm = confusion_matrix(y_test_modeled, y_predicted_modeled)\n",
        "print(cm)\n",
        "\n",
        "\n",
        "f1=f1_score(y_true= y_test_modeled, y_pred= y_predicted_modeled)\n",
        "\n",
        "#Print the accuracy\n",
        "print(f1)\n",
        "print(accuracy_score(y_true= y_test_modeled, y_pred= y_predicted_modeled))\n",
        "print(precision_score(y_true= y_test_modeled, y_pred= y_predicted_modeled, average='micro'))\n",
        "print(recall_score(y_true= y_test_modeled, y_pred= y_predicted_modeled, average='micro'))\n",
        "print(f1_score(y_true= y_test_modeled, y_pred= y_predicted_modeled,average='micro'))"
      ],
      "metadata": {
        "id": "dol61RmE-zxa",
        "colab": {
          "base_uri": "https://localhost:8080/"
        },
        "outputId": "0607eced-2cc7-429c-f4a1-0719e10edb46"
      },
      "execution_count": null,
      "outputs": [
        {
          "output_type": "stream",
          "name": "stdout",
          "text": [
            "[0 1]\n",
            "[[364  32]\n",
            " [151  69]]\n",
            "0.4299065420560748\n",
            "0.702922077922078\n",
            "0.702922077922078\n",
            "0.702922077922078\n",
            "0.702922077922078\n"
          ]
        }
      ]
    },
    {
      "cell_type": "code",
      "execution_count": null,
      "metadata": {
        "id": "O2o9CHF7QUfh"
      },
      "outputs": [],
      "source": [
        "epochs = 100\n",
        "steps_per_epoch = len(X_train)\n",
        "num_train_steps = steps_per_epoch * epochs\n",
        "num_warmup_steps = int(0.1*num_train_steps)\n",
        "\n",
        "init_lr = 3e-4\n",
        "# optimizer = tf.keras.optimizers.Adam(learning_rate=3e-5)\n",
        "lr_schedule = tf.keras.optimizers.schedules.ExponentialDecay(\n",
        "    init_lr,\n",
        "    decay_steps=800,\n",
        "    decay_rate=0.85,\n",
        "    staircase=True)\n",
        "optimizer = tf.keras.optimizers.Adam(learning_rate=lr_schedule)\n"
      ]
    },
    {
      "cell_type": "code",
      "execution_count": null,
      "metadata": {
        "id": "udx8WBLJQUfh"
      },
      "outputs": [],
      "source": [
        "model = build_classifier_model()\n",
        "model.compile(\n",
        "    optimizer = optimizer,\n",
        "    loss = loss, \n",
        "    metrics = METRICS\n",
        ")"
      ]
    },
    {
      "cell_type": "code",
      "execution_count": null,
      "metadata": {
        "id": "5BDy-zAJveLe"
      },
      "outputs": [],
      "source": [
        "print(X_train[0])\n",
        "print(y_train)"
      ]
    },
    {
      "cell_type": "code",
      "execution_count": null,
      "metadata": {
        "id": "TMDVbdOOwS9_"
      },
      "outputs": [],
      "source": [
        "# Tokenize X_train before\n",
        "tokenizer = RobertaTokenizer.from_pretrained(\"roberta-base\")\n",
        "input_ids = []\n",
        "attention_masks = []\n",
        "raw_outputs = []\n",
        "for x in X_train:\n",
        "  x = tokenizer(x, return_tensors='tf', truncation=True)  # to cut sentences with > 512 words\n",
        "  raw_outputs.append(x)\n",
        "  input_ids.append(x['input_ids'])\n",
        "  attention_masks.append(x['attention_mask'])"
      ]
    },
    {
      "cell_type": "code",
      "execution_count": null,
      "metadata": {
        "id": "TMpab_TSwbEH"
      },
      "outputs": [],
      "source": [
        "print(len(X_train))\n",
        "print(len(input_ids))\n",
        "print(len(attention_masks))\n",
        "print(X_train[0])\n",
        "print(input_ids[0])\n",
        "print(attention_masks[0])"
      ]
    },
    {
      "cell_type": "code",
      "execution_count": null,
      "metadata": {
        "id": "yHUTe9bdybnz"
      },
      "outputs": [],
      "source": [
        "# add the model\n",
        "transformer_model = TFRobertaModel.from_pretrained('roberta-base')\n",
        "embeddings = []\n",
        "for r in raw_outputs:\n",
        "  embedding = transformer_model(r)\n",
        "  embeddings.append(embedding['pooler_output'])\n",
        "\n",
        "# save to pickle\n",
        "'''\n",
        "with open('embeddings_roberta_train.pickle', 'wb') as handle:\n",
        "    pickle.dump(embeddings, handle, protocol=pickle.HIGHEST_PROTOCOL)\n",
        "'''"
      ]
    },
    {
      "cell_type": "code",
      "execution_count": null,
      "metadata": {
        "id": "2hJOcqGY08Pa"
      },
      "outputs": [],
      "source": [
        "# load the embeddings\n",
        "with open('embeddings_roberta_train.pickle', 'rb') as handle:\n",
        "    embeddings = pickle.load(handle)"
      ]
    },
    {
      "cell_type": "code",
      "execution_count": null,
      "metadata": {
        "id": "jjpJ7S3wzjTY"
      },
      "outputs": [],
      "source": [
        "print(embeddings[0])"
      ]
    },
    {
      "cell_type": "code",
      "execution_count": null,
      "metadata": {
        "id": "p7GwaHOg_ra5"
      },
      "outputs": [],
      "source": [
        "embeddings_inner = [e[0] for e in embeddings]\n",
        "embeddings_inner = tf.squeeze(embeddings_inner)\n",
        "print(len(embeddings_inner))\n",
        "# embeddings_inner = [tf.reshape(e, e.shape[0]) for e in embeddings_inner]\n",
        "# print(embeddings_inner[0])\n",
        "print(embeddings_inner[0].shape)\n",
        "print(y_train[0].shape)"
      ]
    },
    {
      "cell_type": "code",
      "execution_count": null,
      "metadata": {
        "id": "6_dtaalZQUfh"
      },
      "outputs": [],
      "source": [
        "history = model.fit(x=embeddings_inner, y=np.array(y_train), batch_size=32, epochs=epochs)"
      ]
    },
    {
      "cell_type": "code",
      "execution_count": null,
      "metadata": {
        "id": "A7tZBjjARu9r"
      },
      "outputs": [],
      "source": [
        "model.save_weights('RobertaWeights')"
      ]
    },
    {
      "cell_type": "code",
      "execution_count": null,
      "metadata": {
        "id": "n-AxoMyiQUfk"
      },
      "outputs": [],
      "source": [
        "y_test = [label_to_id[label] for label in y_test]"
      ]
    },
    {
      "cell_type": "code",
      "execution_count": null,
      "metadata": {
        "id": "eYxHJuQbQUfk"
      },
      "outputs": [],
      "source": [
        "y_test = tf.one_hot(y_test, depth = 2)"
      ]
    },
    {
      "cell_type": "code",
      "execution_count": null,
      "metadata": {
        "id": "4R_lNpyeDXiW"
      },
      "outputs": [],
      "source": [
        "# Tokenize X_train before\n",
        "tokenizer = RobertaTokenizer.from_pretrained(\"roberta-base\")\n",
        "input_tokens = []\n",
        "attention_masks = []\n",
        "raw_outputs = []\n",
        "for x in X_test:\n",
        "  x = tokenizer(x, return_tensors='tf', truncation=True)  # to cut sentences with > 512 words\n",
        "  raw_outputs.append(x)\n",
        "  input_tokens.append(x['input_ids'])\n",
        "  attention_masks.append(x['attention_mask'])"
      ]
    },
    {
      "cell_type": "code",
      "execution_count": null,
      "metadata": {
        "id": "_Eoc78ZPDgI8"
      },
      "outputs": [],
      "source": [
        "transformer_model = TFRobertaModel.from_pretrained('roberta-base')\n",
        "embeddings = []\n",
        "for r in raw_outputs:\n",
        "  embedding = transformer_model(r)\n",
        "  embeddings.append(embedding['pooler_output'])\n",
        "\n",
        "# save to pickle\n",
        "with open('embeddings_roberta_test.pickle', 'wb') as handle:\n",
        "    pickle.dump(embeddings, handle, protocol=pickle.HIGHEST_PROTOCOL)"
      ]
    },
    {
      "cell_type": "code",
      "execution_count": null,
      "metadata": {
        "id": "KhpQH67xDmGb"
      },
      "outputs": [],
      "source": [
        "# load the embeddings\n",
        "with open('embeddings_roberta_test.pickle', 'rb') as handle:\n",
        "    embeddings = pickle.load(handle)"
      ]
    },
    {
      "cell_type": "code",
      "execution_count": null,
      "metadata": {
        "id": "TDvdYqRcDpBk"
      },
      "outputs": [],
      "source": [
        "print(embeddings[0])"
      ]
    },
    {
      "cell_type": "code",
      "execution_count": null,
      "metadata": {
        "id": "VZ2i7FKyDsws"
      },
      "outputs": [],
      "source": [
        "embeddings_inner = [e[0] for e in embeddings]\n",
        "embeddings_inner = tf.squeeze(embeddings_inner)\n",
        "print(len(embeddings_inner))\n",
        "# embeddings_inner = [tf.reshape(e, e.shape[0]) for e in embeddings_inner]\n",
        "# print(embeddings_inner[0])\n",
        "print(embeddings_inner[0].shape)\n",
        "print(y_train[0].shape)"
      ]
    },
    {
      "cell_type": "code",
      "execution_count": null,
      "metadata": {
        "id": "V4ppRITqQUfk"
      },
      "outputs": [],
      "source": [
        "model.evaluate(embeddings_inner, np.array(y_test))"
      ]
    },
    {
      "cell_type": "code",
      "execution_count": null,
      "metadata": {
        "id": "hwdT8UlCQUfk"
      },
      "outputs": [],
      "source": [
        "y_predicted = model.predict(X_test)"
      ]
    },
    {
      "cell_type": "code",
      "execution_count": null,
      "metadata": {
        "id": "5BwLbgX-QUfk"
      },
      "outputs": [],
      "source": [
        "y_predicted_modeled = tf.math.argmax(y_predicted,axis=1)"
      ]
    },
    {
      "cell_type": "code",
      "execution_count": null,
      "metadata": {
        "id": "oWtqtl9-QUfk"
      },
      "outputs": [],
      "source": [
        "np.unique(y_predicted_modeled)"
      ]
    },
    {
      "cell_type": "code",
      "execution_count": null,
      "metadata": {
        "id": "ZmFM_1XQQUfl"
      },
      "outputs": [],
      "source": [
        "y_test_modeled =  tf.math.argmax(y_test,axis=1)"
      ]
    },
    {
      "cell_type": "code",
      "execution_count": null,
      "metadata": {
        "id": "vIkGTnlGQUfl"
      },
      "outputs": [],
      "source": [
        "from sklearn.metrics import confusion_matrix, classification_report\n",
        "\n",
        "cm = confusion_matrix(y_test_modeled, y_predicted_modeled)\n",
        "cm"
      ]
    }
  ],
  "metadata": {
    "accelerator": "GPU",
    "colab": {
      "collapsed_sections": [],
      "name": "RobertaBinary.ipynb",
      "provenance": []
    },
    "interpreter": {
      "hash": "2681c61213f7868066ad62bb2a35fb330f9d31b463350b0be21ca9cb2599bc86"
    },
    "kernelspec": {
      "display_name": "Python 3.9.7 64-bit",
      "language": "python",
      "name": "python3"
    },
    "language_info": {
      "codemirror_mode": {
        "name": "ipython",
        "version": 3
      },
      "file_extension": ".py",
      "mimetype": "text/x-python",
      "name": "python",
      "nbconvert_exporter": "python",
      "pygments_lexer": "ipython3",
      "version": "3.9.7"
    },
    "widgets": {
      "application/vnd.jupyter.widget-state+json": {
        "c2d850aaace54fbfa77f303ab67184a6": {
          "model_module": "@jupyter-widgets/controls",
          "model_name": "HBoxModel",
          "model_module_version": "1.5.0",
          "state": {
            "_view_name": "HBoxView",
            "_dom_classes": [],
            "_model_name": "HBoxModel",
            "_view_module": "@jupyter-widgets/controls",
            "_model_module_version": "1.5.0",
            "_view_count": null,
            "_view_module_version": "1.5.0",
            "box_style": "",
            "layout": "IPY_MODEL_788224c4ce8b44f38723ab7e48c7034d",
            "_model_module": "@jupyter-widgets/controls",
            "children": [
              "IPY_MODEL_f359396f3ac643399f1989118f73b850",
              "IPY_MODEL_34efc087d32642089c3c20ac1ea49b61",
              "IPY_MODEL_4b1be6105b52425abcbc49648e476f20"
            ]
          }
        },
        "788224c4ce8b44f38723ab7e48c7034d": {
          "model_module": "@jupyter-widgets/base",
          "model_name": "LayoutModel",
          "model_module_version": "1.2.0",
          "state": {
            "_view_name": "LayoutView",
            "grid_template_rows": null,
            "right": null,
            "justify_content": null,
            "_view_module": "@jupyter-widgets/base",
            "overflow": null,
            "_model_module_version": "1.2.0",
            "_view_count": null,
            "flex_flow": null,
            "width": null,
            "min_width": null,
            "border": null,
            "align_items": null,
            "bottom": null,
            "_model_module": "@jupyter-widgets/base",
            "top": null,
            "grid_column": null,
            "overflow_y": null,
            "overflow_x": null,
            "grid_auto_flow": null,
            "grid_area": null,
            "grid_template_columns": null,
            "flex": null,
            "_model_name": "LayoutModel",
            "justify_items": null,
            "grid_row": null,
            "max_height": null,
            "align_content": null,
            "visibility": null,
            "align_self": null,
            "height": null,
            "min_height": null,
            "padding": null,
            "grid_auto_rows": null,
            "grid_gap": null,
            "max_width": null,
            "order": null,
            "_view_module_version": "1.2.0",
            "grid_template_areas": null,
            "object_position": null,
            "object_fit": null,
            "grid_auto_columns": null,
            "margin": null,
            "display": null,
            "left": null
          }
        },
        "f359396f3ac643399f1989118f73b850": {
          "model_module": "@jupyter-widgets/controls",
          "model_name": "HTMLModel",
          "model_module_version": "1.5.0",
          "state": {
            "_view_name": "HTMLView",
            "style": "IPY_MODEL_9c3be7bf7ebd4677b809a5e9adf38aaa",
            "_dom_classes": [],
            "description": "",
            "_model_name": "HTMLModel",
            "placeholder": "​",
            "_view_module": "@jupyter-widgets/controls",
            "_model_module_version": "1.5.0",
            "value": "Downloading: 100%",
            "_view_count": null,
            "_view_module_version": "1.5.0",
            "description_tooltip": null,
            "_model_module": "@jupyter-widgets/controls",
            "layout": "IPY_MODEL_aaf345a72dbc4f68b02807072c3b609d"
          }
        },
        "34efc087d32642089c3c20ac1ea49b61": {
          "model_module": "@jupyter-widgets/controls",
          "model_name": "FloatProgressModel",
          "model_module_version": "1.5.0",
          "state": {
            "_view_name": "ProgressView",
            "style": "IPY_MODEL_e963e2f6eb9d40b3a4fd3339ff3f55df",
            "_dom_classes": [],
            "description": "",
            "_model_name": "FloatProgressModel",
            "bar_style": "success",
            "max": 898823,
            "_view_module": "@jupyter-widgets/controls",
            "_model_module_version": "1.5.0",
            "value": 898823,
            "_view_count": null,
            "_view_module_version": "1.5.0",
            "orientation": "horizontal",
            "min": 0,
            "description_tooltip": null,
            "_model_module": "@jupyter-widgets/controls",
            "layout": "IPY_MODEL_3255a864966b40f783ca1a99461d318a"
          }
        },
        "4b1be6105b52425abcbc49648e476f20": {
          "model_module": "@jupyter-widgets/controls",
          "model_name": "HTMLModel",
          "model_module_version": "1.5.0",
          "state": {
            "_view_name": "HTMLView",
            "style": "IPY_MODEL_a3334cb48ba9496e9d754c7f654d7b21",
            "_dom_classes": [],
            "description": "",
            "_model_name": "HTMLModel",
            "placeholder": "​",
            "_view_module": "@jupyter-widgets/controls",
            "_model_module_version": "1.5.0",
            "value": " 878k/878k [00:01&lt;00:00, 1.21MB/s]",
            "_view_count": null,
            "_view_module_version": "1.5.0",
            "description_tooltip": null,
            "_model_module": "@jupyter-widgets/controls",
            "layout": "IPY_MODEL_ab7a4fba43fd4cb48d8b54e7be06a5c8"
          }
        },
        "9c3be7bf7ebd4677b809a5e9adf38aaa": {
          "model_module": "@jupyter-widgets/controls",
          "model_name": "DescriptionStyleModel",
          "model_module_version": "1.5.0",
          "state": {
            "_view_name": "StyleView",
            "_model_name": "DescriptionStyleModel",
            "description_width": "",
            "_view_module": "@jupyter-widgets/base",
            "_model_module_version": "1.5.0",
            "_view_count": null,
            "_view_module_version": "1.2.0",
            "_model_module": "@jupyter-widgets/controls"
          }
        },
        "aaf345a72dbc4f68b02807072c3b609d": {
          "model_module": "@jupyter-widgets/base",
          "model_name": "LayoutModel",
          "model_module_version": "1.2.0",
          "state": {
            "_view_name": "LayoutView",
            "grid_template_rows": null,
            "right": null,
            "justify_content": null,
            "_view_module": "@jupyter-widgets/base",
            "overflow": null,
            "_model_module_version": "1.2.0",
            "_view_count": null,
            "flex_flow": null,
            "width": null,
            "min_width": null,
            "border": null,
            "align_items": null,
            "bottom": null,
            "_model_module": "@jupyter-widgets/base",
            "top": null,
            "grid_column": null,
            "overflow_y": null,
            "overflow_x": null,
            "grid_auto_flow": null,
            "grid_area": null,
            "grid_template_columns": null,
            "flex": null,
            "_model_name": "LayoutModel",
            "justify_items": null,
            "grid_row": null,
            "max_height": null,
            "align_content": null,
            "visibility": null,
            "align_self": null,
            "height": null,
            "min_height": null,
            "padding": null,
            "grid_auto_rows": null,
            "grid_gap": null,
            "max_width": null,
            "order": null,
            "_view_module_version": "1.2.0",
            "grid_template_areas": null,
            "object_position": null,
            "object_fit": null,
            "grid_auto_columns": null,
            "margin": null,
            "display": null,
            "left": null
          }
        },
        "e963e2f6eb9d40b3a4fd3339ff3f55df": {
          "model_module": "@jupyter-widgets/controls",
          "model_name": "ProgressStyleModel",
          "model_module_version": "1.5.0",
          "state": {
            "_view_name": "StyleView",
            "_model_name": "ProgressStyleModel",
            "description_width": "",
            "_view_module": "@jupyter-widgets/base",
            "_model_module_version": "1.5.0",
            "_view_count": null,
            "_view_module_version": "1.2.0",
            "bar_color": null,
            "_model_module": "@jupyter-widgets/controls"
          }
        },
        "3255a864966b40f783ca1a99461d318a": {
          "model_module": "@jupyter-widgets/base",
          "model_name": "LayoutModel",
          "model_module_version": "1.2.0",
          "state": {
            "_view_name": "LayoutView",
            "grid_template_rows": null,
            "right": null,
            "justify_content": null,
            "_view_module": "@jupyter-widgets/base",
            "overflow": null,
            "_model_module_version": "1.2.0",
            "_view_count": null,
            "flex_flow": null,
            "width": null,
            "min_width": null,
            "border": null,
            "align_items": null,
            "bottom": null,
            "_model_module": "@jupyter-widgets/base",
            "top": null,
            "grid_column": null,
            "overflow_y": null,
            "overflow_x": null,
            "grid_auto_flow": null,
            "grid_area": null,
            "grid_template_columns": null,
            "flex": null,
            "_model_name": "LayoutModel",
            "justify_items": null,
            "grid_row": null,
            "max_height": null,
            "align_content": null,
            "visibility": null,
            "align_self": null,
            "height": null,
            "min_height": null,
            "padding": null,
            "grid_auto_rows": null,
            "grid_gap": null,
            "max_width": null,
            "order": null,
            "_view_module_version": "1.2.0",
            "grid_template_areas": null,
            "object_position": null,
            "object_fit": null,
            "grid_auto_columns": null,
            "margin": null,
            "display": null,
            "left": null
          }
        },
        "a3334cb48ba9496e9d754c7f654d7b21": {
          "model_module": "@jupyter-widgets/controls",
          "model_name": "DescriptionStyleModel",
          "model_module_version": "1.5.0",
          "state": {
            "_view_name": "StyleView",
            "_model_name": "DescriptionStyleModel",
            "description_width": "",
            "_view_module": "@jupyter-widgets/base",
            "_model_module_version": "1.5.0",
            "_view_count": null,
            "_view_module_version": "1.2.0",
            "_model_module": "@jupyter-widgets/controls"
          }
        },
        "ab7a4fba43fd4cb48d8b54e7be06a5c8": {
          "model_module": "@jupyter-widgets/base",
          "model_name": "LayoutModel",
          "model_module_version": "1.2.0",
          "state": {
            "_view_name": "LayoutView",
            "grid_template_rows": null,
            "right": null,
            "justify_content": null,
            "_view_module": "@jupyter-widgets/base",
            "overflow": null,
            "_model_module_version": "1.2.0",
            "_view_count": null,
            "flex_flow": null,
            "width": null,
            "min_width": null,
            "border": null,
            "align_items": null,
            "bottom": null,
            "_model_module": "@jupyter-widgets/base",
            "top": null,
            "grid_column": null,
            "overflow_y": null,
            "overflow_x": null,
            "grid_auto_flow": null,
            "grid_area": null,
            "grid_template_columns": null,
            "flex": null,
            "_model_name": "LayoutModel",
            "justify_items": null,
            "grid_row": null,
            "max_height": null,
            "align_content": null,
            "visibility": null,
            "align_self": null,
            "height": null,
            "min_height": null,
            "padding": null,
            "grid_auto_rows": null,
            "grid_gap": null,
            "max_width": null,
            "order": null,
            "_view_module_version": "1.2.0",
            "grid_template_areas": null,
            "object_position": null,
            "object_fit": null,
            "grid_auto_columns": null,
            "margin": null,
            "display": null,
            "left": null
          }
        },
        "486b82a366f746acabf1b2e9afa76295": {
          "model_module": "@jupyter-widgets/controls",
          "model_name": "HBoxModel",
          "model_module_version": "1.5.0",
          "state": {
            "_view_name": "HBoxView",
            "_dom_classes": [],
            "_model_name": "HBoxModel",
            "_view_module": "@jupyter-widgets/controls",
            "_model_module_version": "1.5.0",
            "_view_count": null,
            "_view_module_version": "1.5.0",
            "box_style": "",
            "layout": "IPY_MODEL_e6bb4934a807406bac5fe66583aa344b",
            "_model_module": "@jupyter-widgets/controls",
            "children": [
              "IPY_MODEL_419b3024feec459da0ec961ff5174d22",
              "IPY_MODEL_fc37b3e472314aa7ba0f71ffbc2d7eed",
              "IPY_MODEL_6f19f0217c3d420b86a6737ecf6060d7"
            ]
          }
        },
        "e6bb4934a807406bac5fe66583aa344b": {
          "model_module": "@jupyter-widgets/base",
          "model_name": "LayoutModel",
          "model_module_version": "1.2.0",
          "state": {
            "_view_name": "LayoutView",
            "grid_template_rows": null,
            "right": null,
            "justify_content": null,
            "_view_module": "@jupyter-widgets/base",
            "overflow": null,
            "_model_module_version": "1.2.0",
            "_view_count": null,
            "flex_flow": null,
            "width": null,
            "min_width": null,
            "border": null,
            "align_items": null,
            "bottom": null,
            "_model_module": "@jupyter-widgets/base",
            "top": null,
            "grid_column": null,
            "overflow_y": null,
            "overflow_x": null,
            "grid_auto_flow": null,
            "grid_area": null,
            "grid_template_columns": null,
            "flex": null,
            "_model_name": "LayoutModel",
            "justify_items": null,
            "grid_row": null,
            "max_height": null,
            "align_content": null,
            "visibility": null,
            "align_self": null,
            "height": null,
            "min_height": null,
            "padding": null,
            "grid_auto_rows": null,
            "grid_gap": null,
            "max_width": null,
            "order": null,
            "_view_module_version": "1.2.0",
            "grid_template_areas": null,
            "object_position": null,
            "object_fit": null,
            "grid_auto_columns": null,
            "margin": null,
            "display": null,
            "left": null
          }
        },
        "419b3024feec459da0ec961ff5174d22": {
          "model_module": "@jupyter-widgets/controls",
          "model_name": "HTMLModel",
          "model_module_version": "1.5.0",
          "state": {
            "_view_name": "HTMLView",
            "style": "IPY_MODEL_5371da9dde6a415aa06ffe3efa3c33c9",
            "_dom_classes": [],
            "description": "",
            "_model_name": "HTMLModel",
            "placeholder": "​",
            "_view_module": "@jupyter-widgets/controls",
            "_model_module_version": "1.5.0",
            "value": "Downloading: 100%",
            "_view_count": null,
            "_view_module_version": "1.5.0",
            "description_tooltip": null,
            "_model_module": "@jupyter-widgets/controls",
            "layout": "IPY_MODEL_51fe50a8b2a147959148284ec7eee56d"
          }
        },
        "fc37b3e472314aa7ba0f71ffbc2d7eed": {
          "model_module": "@jupyter-widgets/controls",
          "model_name": "FloatProgressModel",
          "model_module_version": "1.5.0",
          "state": {
            "_view_name": "ProgressView",
            "style": "IPY_MODEL_e91faed5eeaf41fab6c38cf8b398557d",
            "_dom_classes": [],
            "description": "",
            "_model_name": "FloatProgressModel",
            "bar_style": "success",
            "max": 456318,
            "_view_module": "@jupyter-widgets/controls",
            "_model_module_version": "1.5.0",
            "value": 456318,
            "_view_count": null,
            "_view_module_version": "1.5.0",
            "orientation": "horizontal",
            "min": 0,
            "description_tooltip": null,
            "_model_module": "@jupyter-widgets/controls",
            "layout": "IPY_MODEL_cc5b216660074abbabf3537664a07b30"
          }
        },
        "6f19f0217c3d420b86a6737ecf6060d7": {
          "model_module": "@jupyter-widgets/controls",
          "model_name": "HTMLModel",
          "model_module_version": "1.5.0",
          "state": {
            "_view_name": "HTMLView",
            "style": "IPY_MODEL_2431a345a5924e29a8965742dccd5e8d",
            "_dom_classes": [],
            "description": "",
            "_model_name": "HTMLModel",
            "placeholder": "​",
            "_view_module": "@jupyter-widgets/controls",
            "_model_module_version": "1.5.0",
            "value": " 446k/446k [00:00&lt;00:00, 678kB/s]",
            "_view_count": null,
            "_view_module_version": "1.5.0",
            "description_tooltip": null,
            "_model_module": "@jupyter-widgets/controls",
            "layout": "IPY_MODEL_b7c11777018d48ff9feb4932d46a71e0"
          }
        },
        "5371da9dde6a415aa06ffe3efa3c33c9": {
          "model_module": "@jupyter-widgets/controls",
          "model_name": "DescriptionStyleModel",
          "model_module_version": "1.5.0",
          "state": {
            "_view_name": "StyleView",
            "_model_name": "DescriptionStyleModel",
            "description_width": "",
            "_view_module": "@jupyter-widgets/base",
            "_model_module_version": "1.5.0",
            "_view_count": null,
            "_view_module_version": "1.2.0",
            "_model_module": "@jupyter-widgets/controls"
          }
        },
        "51fe50a8b2a147959148284ec7eee56d": {
          "model_module": "@jupyter-widgets/base",
          "model_name": "LayoutModel",
          "model_module_version": "1.2.0",
          "state": {
            "_view_name": "LayoutView",
            "grid_template_rows": null,
            "right": null,
            "justify_content": null,
            "_view_module": "@jupyter-widgets/base",
            "overflow": null,
            "_model_module_version": "1.2.0",
            "_view_count": null,
            "flex_flow": null,
            "width": null,
            "min_width": null,
            "border": null,
            "align_items": null,
            "bottom": null,
            "_model_module": "@jupyter-widgets/base",
            "top": null,
            "grid_column": null,
            "overflow_y": null,
            "overflow_x": null,
            "grid_auto_flow": null,
            "grid_area": null,
            "grid_template_columns": null,
            "flex": null,
            "_model_name": "LayoutModel",
            "justify_items": null,
            "grid_row": null,
            "max_height": null,
            "align_content": null,
            "visibility": null,
            "align_self": null,
            "height": null,
            "min_height": null,
            "padding": null,
            "grid_auto_rows": null,
            "grid_gap": null,
            "max_width": null,
            "order": null,
            "_view_module_version": "1.2.0",
            "grid_template_areas": null,
            "object_position": null,
            "object_fit": null,
            "grid_auto_columns": null,
            "margin": null,
            "display": null,
            "left": null
          }
        },
        "e91faed5eeaf41fab6c38cf8b398557d": {
          "model_module": "@jupyter-widgets/controls",
          "model_name": "ProgressStyleModel",
          "model_module_version": "1.5.0",
          "state": {
            "_view_name": "StyleView",
            "_model_name": "ProgressStyleModel",
            "description_width": "",
            "_view_module": "@jupyter-widgets/base",
            "_model_module_version": "1.5.0",
            "_view_count": null,
            "_view_module_version": "1.2.0",
            "bar_color": null,
            "_model_module": "@jupyter-widgets/controls"
          }
        },
        "cc5b216660074abbabf3537664a07b30": {
          "model_module": "@jupyter-widgets/base",
          "model_name": "LayoutModel",
          "model_module_version": "1.2.0",
          "state": {
            "_view_name": "LayoutView",
            "grid_template_rows": null,
            "right": null,
            "justify_content": null,
            "_view_module": "@jupyter-widgets/base",
            "overflow": null,
            "_model_module_version": "1.2.0",
            "_view_count": null,
            "flex_flow": null,
            "width": null,
            "min_width": null,
            "border": null,
            "align_items": null,
            "bottom": null,
            "_model_module": "@jupyter-widgets/base",
            "top": null,
            "grid_column": null,
            "overflow_y": null,
            "overflow_x": null,
            "grid_auto_flow": null,
            "grid_area": null,
            "grid_template_columns": null,
            "flex": null,
            "_model_name": "LayoutModel",
            "justify_items": null,
            "grid_row": null,
            "max_height": null,
            "align_content": null,
            "visibility": null,
            "align_self": null,
            "height": null,
            "min_height": null,
            "padding": null,
            "grid_auto_rows": null,
            "grid_gap": null,
            "max_width": null,
            "order": null,
            "_view_module_version": "1.2.0",
            "grid_template_areas": null,
            "object_position": null,
            "object_fit": null,
            "grid_auto_columns": null,
            "margin": null,
            "display": null,
            "left": null
          }
        },
        "2431a345a5924e29a8965742dccd5e8d": {
          "model_module": "@jupyter-widgets/controls",
          "model_name": "DescriptionStyleModel",
          "model_module_version": "1.5.0",
          "state": {
            "_view_name": "StyleView",
            "_model_name": "DescriptionStyleModel",
            "description_width": "",
            "_view_module": "@jupyter-widgets/base",
            "_model_module_version": "1.5.0",
            "_view_count": null,
            "_view_module_version": "1.2.0",
            "_model_module": "@jupyter-widgets/controls"
          }
        },
        "b7c11777018d48ff9feb4932d46a71e0": {
          "model_module": "@jupyter-widgets/base",
          "model_name": "LayoutModel",
          "model_module_version": "1.2.0",
          "state": {
            "_view_name": "LayoutView",
            "grid_template_rows": null,
            "right": null,
            "justify_content": null,
            "_view_module": "@jupyter-widgets/base",
            "overflow": null,
            "_model_module_version": "1.2.0",
            "_view_count": null,
            "flex_flow": null,
            "width": null,
            "min_width": null,
            "border": null,
            "align_items": null,
            "bottom": null,
            "_model_module": "@jupyter-widgets/base",
            "top": null,
            "grid_column": null,
            "overflow_y": null,
            "overflow_x": null,
            "grid_auto_flow": null,
            "grid_area": null,
            "grid_template_columns": null,
            "flex": null,
            "_model_name": "LayoutModel",
            "justify_items": null,
            "grid_row": null,
            "max_height": null,
            "align_content": null,
            "visibility": null,
            "align_self": null,
            "height": null,
            "min_height": null,
            "padding": null,
            "grid_auto_rows": null,
            "grid_gap": null,
            "max_width": null,
            "order": null,
            "_view_module_version": "1.2.0",
            "grid_template_areas": null,
            "object_position": null,
            "object_fit": null,
            "grid_auto_columns": null,
            "margin": null,
            "display": null,
            "left": null
          }
        },
        "52b7dd3b3ce645c79306be084e29d74c": {
          "model_module": "@jupyter-widgets/controls",
          "model_name": "HBoxModel",
          "model_module_version": "1.5.0",
          "state": {
            "_view_name": "HBoxView",
            "_dom_classes": [],
            "_model_name": "HBoxModel",
            "_view_module": "@jupyter-widgets/controls",
            "_model_module_version": "1.5.0",
            "_view_count": null,
            "_view_module_version": "1.5.0",
            "box_style": "",
            "layout": "IPY_MODEL_9cfadba2164f4a78a72168e50674a5ea",
            "_model_module": "@jupyter-widgets/controls",
            "children": [
              "IPY_MODEL_7c57cb691834424dbfd83d922f0bff33",
              "IPY_MODEL_20302dfc2909423a85e48d454ab540d3",
              "IPY_MODEL_58b0d3dd538c4730bd6029ab314303f8"
            ]
          }
        },
        "9cfadba2164f4a78a72168e50674a5ea": {
          "model_module": "@jupyter-widgets/base",
          "model_name": "LayoutModel",
          "model_module_version": "1.2.0",
          "state": {
            "_view_name": "LayoutView",
            "grid_template_rows": null,
            "right": null,
            "justify_content": null,
            "_view_module": "@jupyter-widgets/base",
            "overflow": null,
            "_model_module_version": "1.2.0",
            "_view_count": null,
            "flex_flow": null,
            "width": null,
            "min_width": null,
            "border": null,
            "align_items": null,
            "bottom": null,
            "_model_module": "@jupyter-widgets/base",
            "top": null,
            "grid_column": null,
            "overflow_y": null,
            "overflow_x": null,
            "grid_auto_flow": null,
            "grid_area": null,
            "grid_template_columns": null,
            "flex": null,
            "_model_name": "LayoutModel",
            "justify_items": null,
            "grid_row": null,
            "max_height": null,
            "align_content": null,
            "visibility": null,
            "align_self": null,
            "height": null,
            "min_height": null,
            "padding": null,
            "grid_auto_rows": null,
            "grid_gap": null,
            "max_width": null,
            "order": null,
            "_view_module_version": "1.2.0",
            "grid_template_areas": null,
            "object_position": null,
            "object_fit": null,
            "grid_auto_columns": null,
            "margin": null,
            "display": null,
            "left": null
          }
        },
        "7c57cb691834424dbfd83d922f0bff33": {
          "model_module": "@jupyter-widgets/controls",
          "model_name": "HTMLModel",
          "model_module_version": "1.5.0",
          "state": {
            "_view_name": "HTMLView",
            "style": "IPY_MODEL_7efea7dee4414661892186d7d13cb206",
            "_dom_classes": [],
            "description": "",
            "_model_name": "HTMLModel",
            "placeholder": "​",
            "_view_module": "@jupyter-widgets/controls",
            "_model_module_version": "1.5.0",
            "value": "Downloading: 100%",
            "_view_count": null,
            "_view_module_version": "1.5.0",
            "description_tooltip": null,
            "_model_module": "@jupyter-widgets/controls",
            "layout": "IPY_MODEL_5b7daf6c048f4ae7a9d1dd2e9a5f47f4"
          }
        },
        "20302dfc2909423a85e48d454ab540d3": {
          "model_module": "@jupyter-widgets/controls",
          "model_name": "FloatProgressModel",
          "model_module_version": "1.5.0",
          "state": {
            "_view_name": "ProgressView",
            "style": "IPY_MODEL_e20214214eaa4a678ea254a74febd647",
            "_dom_classes": [],
            "description": "",
            "_model_name": "FloatProgressModel",
            "bar_style": "success",
            "max": 1355863,
            "_view_module": "@jupyter-widgets/controls",
            "_model_module_version": "1.5.0",
            "value": 1355863,
            "_view_count": null,
            "_view_module_version": "1.5.0",
            "orientation": "horizontal",
            "min": 0,
            "description_tooltip": null,
            "_model_module": "@jupyter-widgets/controls",
            "layout": "IPY_MODEL_4396c11a54ef400eb1f2fd35eadc05e3"
          }
        },
        "58b0d3dd538c4730bd6029ab314303f8": {
          "model_module": "@jupyter-widgets/controls",
          "model_name": "HTMLModel",
          "model_module_version": "1.5.0",
          "state": {
            "_view_name": "HTMLView",
            "style": "IPY_MODEL_2fd62fb2d4cb47c9ab088191937c3201",
            "_dom_classes": [],
            "description": "",
            "_model_name": "HTMLModel",
            "placeholder": "​",
            "_view_module": "@jupyter-widgets/controls",
            "_model_module_version": "1.5.0",
            "value": " 1.29M/1.29M [00:01&lt;00:00, 1.32MB/s]",
            "_view_count": null,
            "_view_module_version": "1.5.0",
            "description_tooltip": null,
            "_model_module": "@jupyter-widgets/controls",
            "layout": "IPY_MODEL_d96693429f3b4639963551c8f0cea2fc"
          }
        },
        "7efea7dee4414661892186d7d13cb206": {
          "model_module": "@jupyter-widgets/controls",
          "model_name": "DescriptionStyleModel",
          "model_module_version": "1.5.0",
          "state": {
            "_view_name": "StyleView",
            "_model_name": "DescriptionStyleModel",
            "description_width": "",
            "_view_module": "@jupyter-widgets/base",
            "_model_module_version": "1.5.0",
            "_view_count": null,
            "_view_module_version": "1.2.0",
            "_model_module": "@jupyter-widgets/controls"
          }
        },
        "5b7daf6c048f4ae7a9d1dd2e9a5f47f4": {
          "model_module": "@jupyter-widgets/base",
          "model_name": "LayoutModel",
          "model_module_version": "1.2.0",
          "state": {
            "_view_name": "LayoutView",
            "grid_template_rows": null,
            "right": null,
            "justify_content": null,
            "_view_module": "@jupyter-widgets/base",
            "overflow": null,
            "_model_module_version": "1.2.0",
            "_view_count": null,
            "flex_flow": null,
            "width": null,
            "min_width": null,
            "border": null,
            "align_items": null,
            "bottom": null,
            "_model_module": "@jupyter-widgets/base",
            "top": null,
            "grid_column": null,
            "overflow_y": null,
            "overflow_x": null,
            "grid_auto_flow": null,
            "grid_area": null,
            "grid_template_columns": null,
            "flex": null,
            "_model_name": "LayoutModel",
            "justify_items": null,
            "grid_row": null,
            "max_height": null,
            "align_content": null,
            "visibility": null,
            "align_self": null,
            "height": null,
            "min_height": null,
            "padding": null,
            "grid_auto_rows": null,
            "grid_gap": null,
            "max_width": null,
            "order": null,
            "_view_module_version": "1.2.0",
            "grid_template_areas": null,
            "object_position": null,
            "object_fit": null,
            "grid_auto_columns": null,
            "margin": null,
            "display": null,
            "left": null
          }
        },
        "e20214214eaa4a678ea254a74febd647": {
          "model_module": "@jupyter-widgets/controls",
          "model_name": "ProgressStyleModel",
          "model_module_version": "1.5.0",
          "state": {
            "_view_name": "StyleView",
            "_model_name": "ProgressStyleModel",
            "description_width": "",
            "_view_module": "@jupyter-widgets/base",
            "_model_module_version": "1.5.0",
            "_view_count": null,
            "_view_module_version": "1.2.0",
            "bar_color": null,
            "_model_module": "@jupyter-widgets/controls"
          }
        },
        "4396c11a54ef400eb1f2fd35eadc05e3": {
          "model_module": "@jupyter-widgets/base",
          "model_name": "LayoutModel",
          "model_module_version": "1.2.0",
          "state": {
            "_view_name": "LayoutView",
            "grid_template_rows": null,
            "right": null,
            "justify_content": null,
            "_view_module": "@jupyter-widgets/base",
            "overflow": null,
            "_model_module_version": "1.2.0",
            "_view_count": null,
            "flex_flow": null,
            "width": null,
            "min_width": null,
            "border": null,
            "align_items": null,
            "bottom": null,
            "_model_module": "@jupyter-widgets/base",
            "top": null,
            "grid_column": null,
            "overflow_y": null,
            "overflow_x": null,
            "grid_auto_flow": null,
            "grid_area": null,
            "grid_template_columns": null,
            "flex": null,
            "_model_name": "LayoutModel",
            "justify_items": null,
            "grid_row": null,
            "max_height": null,
            "align_content": null,
            "visibility": null,
            "align_self": null,
            "height": null,
            "min_height": null,
            "padding": null,
            "grid_auto_rows": null,
            "grid_gap": null,
            "max_width": null,
            "order": null,
            "_view_module_version": "1.2.0",
            "grid_template_areas": null,
            "object_position": null,
            "object_fit": null,
            "grid_auto_columns": null,
            "margin": null,
            "display": null,
            "left": null
          }
        },
        "2fd62fb2d4cb47c9ab088191937c3201": {
          "model_module": "@jupyter-widgets/controls",
          "model_name": "DescriptionStyleModel",
          "model_module_version": "1.5.0",
          "state": {
            "_view_name": "StyleView",
            "_model_name": "DescriptionStyleModel",
            "description_width": "",
            "_view_module": "@jupyter-widgets/base",
            "_model_module_version": "1.5.0",
            "_view_count": null,
            "_view_module_version": "1.2.0",
            "_model_module": "@jupyter-widgets/controls"
          }
        },
        "d96693429f3b4639963551c8f0cea2fc": {
          "model_module": "@jupyter-widgets/base",
          "model_name": "LayoutModel",
          "model_module_version": "1.2.0",
          "state": {
            "_view_name": "LayoutView",
            "grid_template_rows": null,
            "right": null,
            "justify_content": null,
            "_view_module": "@jupyter-widgets/base",
            "overflow": null,
            "_model_module_version": "1.2.0",
            "_view_count": null,
            "flex_flow": null,
            "width": null,
            "min_width": null,
            "border": null,
            "align_items": null,
            "bottom": null,
            "_model_module": "@jupyter-widgets/base",
            "top": null,
            "grid_column": null,
            "overflow_y": null,
            "overflow_x": null,
            "grid_auto_flow": null,
            "grid_area": null,
            "grid_template_columns": null,
            "flex": null,
            "_model_name": "LayoutModel",
            "justify_items": null,
            "grid_row": null,
            "max_height": null,
            "align_content": null,
            "visibility": null,
            "align_self": null,
            "height": null,
            "min_height": null,
            "padding": null,
            "grid_auto_rows": null,
            "grid_gap": null,
            "max_width": null,
            "order": null,
            "_view_module_version": "1.2.0",
            "grid_template_areas": null,
            "object_position": null,
            "object_fit": null,
            "grid_auto_columns": null,
            "margin": null,
            "display": null,
            "left": null
          }
        },
        "d34e2abdb4394862aff79bb2a86643a4": {
          "model_module": "@jupyter-widgets/controls",
          "model_name": "HBoxModel",
          "model_module_version": "1.5.0",
          "state": {
            "_view_name": "HBoxView",
            "_dom_classes": [],
            "_model_name": "HBoxModel",
            "_view_module": "@jupyter-widgets/controls",
            "_model_module_version": "1.5.0",
            "_view_count": null,
            "_view_module_version": "1.5.0",
            "box_style": "",
            "layout": "IPY_MODEL_64efb0496aa641e5ab9cf0d024c81ba6",
            "_model_module": "@jupyter-widgets/controls",
            "children": [
              "IPY_MODEL_e3c8c8d2218b4118a8d4b3796b366877",
              "IPY_MODEL_b6c0b676589e49beb22c67a4165046d0",
              "IPY_MODEL_fc2fdb1961d84f4f9b8b4bab07151be5"
            ]
          }
        },
        "64efb0496aa641e5ab9cf0d024c81ba6": {
          "model_module": "@jupyter-widgets/base",
          "model_name": "LayoutModel",
          "model_module_version": "1.2.0",
          "state": {
            "_view_name": "LayoutView",
            "grid_template_rows": null,
            "right": null,
            "justify_content": null,
            "_view_module": "@jupyter-widgets/base",
            "overflow": null,
            "_model_module_version": "1.2.0",
            "_view_count": null,
            "flex_flow": null,
            "width": null,
            "min_width": null,
            "border": null,
            "align_items": null,
            "bottom": null,
            "_model_module": "@jupyter-widgets/base",
            "top": null,
            "grid_column": null,
            "overflow_y": null,
            "overflow_x": null,
            "grid_auto_flow": null,
            "grid_area": null,
            "grid_template_columns": null,
            "flex": null,
            "_model_name": "LayoutModel",
            "justify_items": null,
            "grid_row": null,
            "max_height": null,
            "align_content": null,
            "visibility": null,
            "align_self": null,
            "height": null,
            "min_height": null,
            "padding": null,
            "grid_auto_rows": null,
            "grid_gap": null,
            "max_width": null,
            "order": null,
            "_view_module_version": "1.2.0",
            "grid_template_areas": null,
            "object_position": null,
            "object_fit": null,
            "grid_auto_columns": null,
            "margin": null,
            "display": null,
            "left": null
          }
        },
        "e3c8c8d2218b4118a8d4b3796b366877": {
          "model_module": "@jupyter-widgets/controls",
          "model_name": "HTMLModel",
          "model_module_version": "1.5.0",
          "state": {
            "_view_name": "HTMLView",
            "style": "IPY_MODEL_747991dd273748b29016c5bff91092b1",
            "_dom_classes": [],
            "description": "",
            "_model_name": "HTMLModel",
            "placeholder": "​",
            "_view_module": "@jupyter-widgets/controls",
            "_model_module_version": "1.5.0",
            "value": "Downloading: 100%",
            "_view_count": null,
            "_view_module_version": "1.5.0",
            "description_tooltip": null,
            "_model_module": "@jupyter-widgets/controls",
            "layout": "IPY_MODEL_5681b27011c144a495ea0274f4929bdd"
          }
        },
        "b6c0b676589e49beb22c67a4165046d0": {
          "model_module": "@jupyter-widgets/controls",
          "model_name": "FloatProgressModel",
          "model_module_version": "1.5.0",
          "state": {
            "_view_name": "ProgressView",
            "style": "IPY_MODEL_aff675b90fd34f40bbf3bc99cba0b5d8",
            "_dom_classes": [],
            "description": "",
            "_model_name": "FloatProgressModel",
            "bar_style": "success",
            "max": 481,
            "_view_module": "@jupyter-widgets/controls",
            "_model_module_version": "1.5.0",
            "value": 481,
            "_view_count": null,
            "_view_module_version": "1.5.0",
            "orientation": "horizontal",
            "min": 0,
            "description_tooltip": null,
            "_model_module": "@jupyter-widgets/controls",
            "layout": "IPY_MODEL_d3b0f06b68de4d0b9ad021cec3e02bda"
          }
        },
        "fc2fdb1961d84f4f9b8b4bab07151be5": {
          "model_module": "@jupyter-widgets/controls",
          "model_name": "HTMLModel",
          "model_module_version": "1.5.0",
          "state": {
            "_view_name": "HTMLView",
            "style": "IPY_MODEL_bf2a6ca4078b47f5b266a77f2a168ec0",
            "_dom_classes": [],
            "description": "",
            "_model_name": "HTMLModel",
            "placeholder": "​",
            "_view_module": "@jupyter-widgets/controls",
            "_model_module_version": "1.5.0",
            "value": " 481/481 [00:00&lt;00:00, 12.3kB/s]",
            "_view_count": null,
            "_view_module_version": "1.5.0",
            "description_tooltip": null,
            "_model_module": "@jupyter-widgets/controls",
            "layout": "IPY_MODEL_f4fc6c28e98740a1b0bf98b260d59a7e"
          }
        },
        "747991dd273748b29016c5bff91092b1": {
          "model_module": "@jupyter-widgets/controls",
          "model_name": "DescriptionStyleModel",
          "model_module_version": "1.5.0",
          "state": {
            "_view_name": "StyleView",
            "_model_name": "DescriptionStyleModel",
            "description_width": "",
            "_view_module": "@jupyter-widgets/base",
            "_model_module_version": "1.5.0",
            "_view_count": null,
            "_view_module_version": "1.2.0",
            "_model_module": "@jupyter-widgets/controls"
          }
        },
        "5681b27011c144a495ea0274f4929bdd": {
          "model_module": "@jupyter-widgets/base",
          "model_name": "LayoutModel",
          "model_module_version": "1.2.0",
          "state": {
            "_view_name": "LayoutView",
            "grid_template_rows": null,
            "right": null,
            "justify_content": null,
            "_view_module": "@jupyter-widgets/base",
            "overflow": null,
            "_model_module_version": "1.2.0",
            "_view_count": null,
            "flex_flow": null,
            "width": null,
            "min_width": null,
            "border": null,
            "align_items": null,
            "bottom": null,
            "_model_module": "@jupyter-widgets/base",
            "top": null,
            "grid_column": null,
            "overflow_y": null,
            "overflow_x": null,
            "grid_auto_flow": null,
            "grid_area": null,
            "grid_template_columns": null,
            "flex": null,
            "_model_name": "LayoutModel",
            "justify_items": null,
            "grid_row": null,
            "max_height": null,
            "align_content": null,
            "visibility": null,
            "align_self": null,
            "height": null,
            "min_height": null,
            "padding": null,
            "grid_auto_rows": null,
            "grid_gap": null,
            "max_width": null,
            "order": null,
            "_view_module_version": "1.2.0",
            "grid_template_areas": null,
            "object_position": null,
            "object_fit": null,
            "grid_auto_columns": null,
            "margin": null,
            "display": null,
            "left": null
          }
        },
        "aff675b90fd34f40bbf3bc99cba0b5d8": {
          "model_module": "@jupyter-widgets/controls",
          "model_name": "ProgressStyleModel",
          "model_module_version": "1.5.0",
          "state": {
            "_view_name": "StyleView",
            "_model_name": "ProgressStyleModel",
            "description_width": "",
            "_view_module": "@jupyter-widgets/base",
            "_model_module_version": "1.5.0",
            "_view_count": null,
            "_view_module_version": "1.2.0",
            "bar_color": null,
            "_model_module": "@jupyter-widgets/controls"
          }
        },
        "d3b0f06b68de4d0b9ad021cec3e02bda": {
          "model_module": "@jupyter-widgets/base",
          "model_name": "LayoutModel",
          "model_module_version": "1.2.0",
          "state": {
            "_view_name": "LayoutView",
            "grid_template_rows": null,
            "right": null,
            "justify_content": null,
            "_view_module": "@jupyter-widgets/base",
            "overflow": null,
            "_model_module_version": "1.2.0",
            "_view_count": null,
            "flex_flow": null,
            "width": null,
            "min_width": null,
            "border": null,
            "align_items": null,
            "bottom": null,
            "_model_module": "@jupyter-widgets/base",
            "top": null,
            "grid_column": null,
            "overflow_y": null,
            "overflow_x": null,
            "grid_auto_flow": null,
            "grid_area": null,
            "grid_template_columns": null,
            "flex": null,
            "_model_name": "LayoutModel",
            "justify_items": null,
            "grid_row": null,
            "max_height": null,
            "align_content": null,
            "visibility": null,
            "align_self": null,
            "height": null,
            "min_height": null,
            "padding": null,
            "grid_auto_rows": null,
            "grid_gap": null,
            "max_width": null,
            "order": null,
            "_view_module_version": "1.2.0",
            "grid_template_areas": null,
            "object_position": null,
            "object_fit": null,
            "grid_auto_columns": null,
            "margin": null,
            "display": null,
            "left": null
          }
        },
        "bf2a6ca4078b47f5b266a77f2a168ec0": {
          "model_module": "@jupyter-widgets/controls",
          "model_name": "DescriptionStyleModel",
          "model_module_version": "1.5.0",
          "state": {
            "_view_name": "StyleView",
            "_model_name": "DescriptionStyleModel",
            "description_width": "",
            "_view_module": "@jupyter-widgets/base",
            "_model_module_version": "1.5.0",
            "_view_count": null,
            "_view_module_version": "1.2.0",
            "_model_module": "@jupyter-widgets/controls"
          }
        },
        "f4fc6c28e98740a1b0bf98b260d59a7e": {
          "model_module": "@jupyter-widgets/base",
          "model_name": "LayoutModel",
          "model_module_version": "1.2.0",
          "state": {
            "_view_name": "LayoutView",
            "grid_template_rows": null,
            "right": null,
            "justify_content": null,
            "_view_module": "@jupyter-widgets/base",
            "overflow": null,
            "_model_module_version": "1.2.0",
            "_view_count": null,
            "flex_flow": null,
            "width": null,
            "min_width": null,
            "border": null,
            "align_items": null,
            "bottom": null,
            "_model_module": "@jupyter-widgets/base",
            "top": null,
            "grid_column": null,
            "overflow_y": null,
            "overflow_x": null,
            "grid_auto_flow": null,
            "grid_area": null,
            "grid_template_columns": null,
            "flex": null,
            "_model_name": "LayoutModel",
            "justify_items": null,
            "grid_row": null,
            "max_height": null,
            "align_content": null,
            "visibility": null,
            "align_self": null,
            "height": null,
            "min_height": null,
            "padding": null,
            "grid_auto_rows": null,
            "grid_gap": null,
            "max_width": null,
            "order": null,
            "_view_module_version": "1.2.0",
            "grid_template_areas": null,
            "object_position": null,
            "object_fit": null,
            "grid_auto_columns": null,
            "margin": null,
            "display": null,
            "left": null
          }
        },
        "d89b593936854d6ababaf2be2dde8fd7": {
          "model_module": "@jupyter-widgets/controls",
          "model_name": "HBoxModel",
          "model_module_version": "1.5.0",
          "state": {
            "_view_name": "HBoxView",
            "_dom_classes": [],
            "_model_name": "HBoxModel",
            "_view_module": "@jupyter-widgets/controls",
            "_model_module_version": "1.5.0",
            "_view_count": null,
            "_view_module_version": "1.5.0",
            "box_style": "",
            "layout": "IPY_MODEL_a49f6a1a48f14783907a883a5fdac590",
            "_model_module": "@jupyter-widgets/controls",
            "children": [
              "IPY_MODEL_73bfb83d0a5c456ca548f325ed2036f9",
              "IPY_MODEL_e538afa05e82439582a5f57252d450d3",
              "IPY_MODEL_9485436e9cb14281bdaa8355f52e2148"
            ]
          }
        },
        "a49f6a1a48f14783907a883a5fdac590": {
          "model_module": "@jupyter-widgets/base",
          "model_name": "LayoutModel",
          "model_module_version": "1.2.0",
          "state": {
            "_view_name": "LayoutView",
            "grid_template_rows": null,
            "right": null,
            "justify_content": null,
            "_view_module": "@jupyter-widgets/base",
            "overflow": null,
            "_model_module_version": "1.2.0",
            "_view_count": null,
            "flex_flow": null,
            "width": null,
            "min_width": null,
            "border": null,
            "align_items": null,
            "bottom": null,
            "_model_module": "@jupyter-widgets/base",
            "top": null,
            "grid_column": null,
            "overflow_y": null,
            "overflow_x": null,
            "grid_auto_flow": null,
            "grid_area": null,
            "grid_template_columns": null,
            "flex": null,
            "_model_name": "LayoutModel",
            "justify_items": null,
            "grid_row": null,
            "max_height": null,
            "align_content": null,
            "visibility": null,
            "align_self": null,
            "height": null,
            "min_height": null,
            "padding": null,
            "grid_auto_rows": null,
            "grid_gap": null,
            "max_width": null,
            "order": null,
            "_view_module_version": "1.2.0",
            "grid_template_areas": null,
            "object_position": null,
            "object_fit": null,
            "grid_auto_columns": null,
            "margin": null,
            "display": null,
            "left": null
          }
        },
        "73bfb83d0a5c456ca548f325ed2036f9": {
          "model_module": "@jupyter-widgets/controls",
          "model_name": "HTMLModel",
          "model_module_version": "1.5.0",
          "state": {
            "_view_name": "HTMLView",
            "style": "IPY_MODEL_7dedd37d9d3c4118afc52a310305ed20",
            "_dom_classes": [],
            "description": "",
            "_model_name": "HTMLModel",
            "placeholder": "​",
            "_view_module": "@jupyter-widgets/controls",
            "_model_module_version": "1.5.0",
            "value": "Downloading: 100%",
            "_view_count": null,
            "_view_module_version": "1.5.0",
            "description_tooltip": null,
            "_model_module": "@jupyter-widgets/controls",
            "layout": "IPY_MODEL_cacd89445d53420ebe738e5789f67620"
          }
        },
        "e538afa05e82439582a5f57252d450d3": {
          "model_module": "@jupyter-widgets/controls",
          "model_name": "FloatProgressModel",
          "model_module_version": "1.5.0",
          "state": {
            "_view_name": "ProgressView",
            "style": "IPY_MODEL_dd6fac91c983484ba9173e4b2b8975ed",
            "_dom_classes": [],
            "description": "",
            "_model_name": "FloatProgressModel",
            "bar_style": "success",
            "max": 657434796,
            "_view_module": "@jupyter-widgets/controls",
            "_model_module_version": "1.5.0",
            "value": 657434796,
            "_view_count": null,
            "_view_module_version": "1.5.0",
            "orientation": "horizontal",
            "min": 0,
            "description_tooltip": null,
            "_model_module": "@jupyter-widgets/controls",
            "layout": "IPY_MODEL_f3ba4290ee61459ebf5996d5da040203"
          }
        },
        "9485436e9cb14281bdaa8355f52e2148": {
          "model_module": "@jupyter-widgets/controls",
          "model_name": "HTMLModel",
          "model_module_version": "1.5.0",
          "state": {
            "_view_name": "HTMLView",
            "style": "IPY_MODEL_c21c3cf0723447a9863fee97066d125e",
            "_dom_classes": [],
            "description": "",
            "_model_name": "HTMLModel",
            "placeholder": "​",
            "_view_module": "@jupyter-widgets/controls",
            "_model_module_version": "1.5.0",
            "value": " 627M/627M [00:20&lt;00:00, 34.5MB/s]",
            "_view_count": null,
            "_view_module_version": "1.5.0",
            "description_tooltip": null,
            "_model_module": "@jupyter-widgets/controls",
            "layout": "IPY_MODEL_89746b38cd6f4abdb6f6c45aae37319c"
          }
        },
        "7dedd37d9d3c4118afc52a310305ed20": {
          "model_module": "@jupyter-widgets/controls",
          "model_name": "DescriptionStyleModel",
          "model_module_version": "1.5.0",
          "state": {
            "_view_name": "StyleView",
            "_model_name": "DescriptionStyleModel",
            "description_width": "",
            "_view_module": "@jupyter-widgets/base",
            "_model_module_version": "1.5.0",
            "_view_count": null,
            "_view_module_version": "1.2.0",
            "_model_module": "@jupyter-widgets/controls"
          }
        },
        "cacd89445d53420ebe738e5789f67620": {
          "model_module": "@jupyter-widgets/base",
          "model_name": "LayoutModel",
          "model_module_version": "1.2.0",
          "state": {
            "_view_name": "LayoutView",
            "grid_template_rows": null,
            "right": null,
            "justify_content": null,
            "_view_module": "@jupyter-widgets/base",
            "overflow": null,
            "_model_module_version": "1.2.0",
            "_view_count": null,
            "flex_flow": null,
            "width": null,
            "min_width": null,
            "border": null,
            "align_items": null,
            "bottom": null,
            "_model_module": "@jupyter-widgets/base",
            "top": null,
            "grid_column": null,
            "overflow_y": null,
            "overflow_x": null,
            "grid_auto_flow": null,
            "grid_area": null,
            "grid_template_columns": null,
            "flex": null,
            "_model_name": "LayoutModel",
            "justify_items": null,
            "grid_row": null,
            "max_height": null,
            "align_content": null,
            "visibility": null,
            "align_self": null,
            "height": null,
            "min_height": null,
            "padding": null,
            "grid_auto_rows": null,
            "grid_gap": null,
            "max_width": null,
            "order": null,
            "_view_module_version": "1.2.0",
            "grid_template_areas": null,
            "object_position": null,
            "object_fit": null,
            "grid_auto_columns": null,
            "margin": null,
            "display": null,
            "left": null
          }
        },
        "dd6fac91c983484ba9173e4b2b8975ed": {
          "model_module": "@jupyter-widgets/controls",
          "model_name": "ProgressStyleModel",
          "model_module_version": "1.5.0",
          "state": {
            "_view_name": "StyleView",
            "_model_name": "ProgressStyleModel",
            "description_width": "",
            "_view_module": "@jupyter-widgets/base",
            "_model_module_version": "1.5.0",
            "_view_count": null,
            "_view_module_version": "1.2.0",
            "bar_color": null,
            "_model_module": "@jupyter-widgets/controls"
          }
        },
        "f3ba4290ee61459ebf5996d5da040203": {
          "model_module": "@jupyter-widgets/base",
          "model_name": "LayoutModel",
          "model_module_version": "1.2.0",
          "state": {
            "_view_name": "LayoutView",
            "grid_template_rows": null,
            "right": null,
            "justify_content": null,
            "_view_module": "@jupyter-widgets/base",
            "overflow": null,
            "_model_module_version": "1.2.0",
            "_view_count": null,
            "flex_flow": null,
            "width": null,
            "min_width": null,
            "border": null,
            "align_items": null,
            "bottom": null,
            "_model_module": "@jupyter-widgets/base",
            "top": null,
            "grid_column": null,
            "overflow_y": null,
            "overflow_x": null,
            "grid_auto_flow": null,
            "grid_area": null,
            "grid_template_columns": null,
            "flex": null,
            "_model_name": "LayoutModel",
            "justify_items": null,
            "grid_row": null,
            "max_height": null,
            "align_content": null,
            "visibility": null,
            "align_self": null,
            "height": null,
            "min_height": null,
            "padding": null,
            "grid_auto_rows": null,
            "grid_gap": null,
            "max_width": null,
            "order": null,
            "_view_module_version": "1.2.0",
            "grid_template_areas": null,
            "object_position": null,
            "object_fit": null,
            "grid_auto_columns": null,
            "margin": null,
            "display": null,
            "left": null
          }
        },
        "c21c3cf0723447a9863fee97066d125e": {
          "model_module": "@jupyter-widgets/controls",
          "model_name": "DescriptionStyleModel",
          "model_module_version": "1.5.0",
          "state": {
            "_view_name": "StyleView",
            "_model_name": "DescriptionStyleModel",
            "description_width": "",
            "_view_module": "@jupyter-widgets/base",
            "_model_module_version": "1.5.0",
            "_view_count": null,
            "_view_module_version": "1.2.0",
            "_model_module": "@jupyter-widgets/controls"
          }
        },
        "89746b38cd6f4abdb6f6c45aae37319c": {
          "model_module": "@jupyter-widgets/base",
          "model_name": "LayoutModel",
          "model_module_version": "1.2.0",
          "state": {
            "_view_name": "LayoutView",
            "grid_template_rows": null,
            "right": null,
            "justify_content": null,
            "_view_module": "@jupyter-widgets/base",
            "overflow": null,
            "_model_module_version": "1.2.0",
            "_view_count": null,
            "flex_flow": null,
            "width": null,
            "min_width": null,
            "border": null,
            "align_items": null,
            "bottom": null,
            "_model_module": "@jupyter-widgets/base",
            "top": null,
            "grid_column": null,
            "overflow_y": null,
            "overflow_x": null,
            "grid_auto_flow": null,
            "grid_area": null,
            "grid_template_columns": null,
            "flex": null,
            "_model_name": "LayoutModel",
            "justify_items": null,
            "grid_row": null,
            "max_height": null,
            "align_content": null,
            "visibility": null,
            "align_self": null,
            "height": null,
            "min_height": null,
            "padding": null,
            "grid_auto_rows": null,
            "grid_gap": null,
            "max_width": null,
            "order": null,
            "_view_module_version": "1.2.0",
            "grid_template_areas": null,
            "object_position": null,
            "object_fit": null,
            "grid_auto_columns": null,
            "margin": null,
            "display": null,
            "left": null
          }
        }
      }
    }
  },
  "nbformat": 4,
  "nbformat_minor": 0
}